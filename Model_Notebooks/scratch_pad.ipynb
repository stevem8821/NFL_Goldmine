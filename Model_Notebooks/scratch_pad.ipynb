{
 "cells": [
  {
   "cell_type": "code",
   "execution_count": 98,
   "id": "829b1c2b",
   "metadata": {},
   "outputs": [],
   "source": [
    "import pandas as pd\n",
    "import sklearn.model_selection as skl_ms\n",
    "import numpy as np\n",
    "import sklearn.ensemble as skl_e\n",
    "import matplotlib.pyplot as plt\n",
    "import scipy.stats as scp_s"
   ]
  },
  {
   "cell_type": "code",
   "execution_count": 10,
   "id": "11941ad9",
   "metadata": {},
   "outputs": [],
   "source": [
    "# File locations\n",
    "ws = \"C:/Users/User/Documents/Workspace/NFL_Goldmine/Data/\"\n",
    "f1 = \"NFL_2018_2021.csv\"\n",
    "f2 = \"2_week_avg.csv\"\n",
    "f3 = \"3_week_avg.csv\"\n",
    "f4 = \"4_week_avg.csv\""
   ]
  },
  {
   "cell_type": "code",
   "execution_count": 101,
   "id": "ec299d3b",
   "metadata": {},
   "outputs": [],
   "source": [
    "def get_two_week_average(df_data):\n",
    "\n",
    "    df = pd.DataFrame()\n",
    "\n",
    "    for team in df_data['Tm'].sort_values().unique():\n",
    "        for year in df_data['Year'].sort_values().unique():\n",
    "            df_ex = df_data[(df_data['Tm'] == team) & (df_data['Year'] == year)].sort_values('Week').reset_index().drop(columns = 'index')\n",
    "            for row in range(0,len(df_ex.index)-2):\n",
    "                avg_rows = df_ex[(df_ex.index == row) | (df_ex.index == row + 1)] \n",
    "                keep_columns = ['Year','Week','Tm','QB','Passer_Rating']\n",
    "                df_keep = df_ex[df_ex.index == row + 2][keep_columns].reset_index().drop(columns = 'index')\n",
    "                df_avg = avg_rows.drop(columns = ['Year','Week','Tm','QB','Passer_Rating'])\n",
    "                df_averages = pd.DataFrame(df_avg.mean()).transpose().reset_index().drop(columns = 'index')\n",
    "                df_averages = round(df_averages,2)\n",
    "                df_averages = df_averages.add_prefix('Avg_')\n",
    "                df_final = pd.concat([df_keep,df_averages],axis = 1)\n",
    "                df = df.append(df_final)\n",
    "                \n",
    "    return df\n",
    "\n",
    "def get_three_week_average(df_data):\n",
    "\n",
    "    df = pd.DataFrame()\n",
    "\n",
    "    for team in df_data['Tm'].sort_values().unique():\n",
    "        for year in df_data['Year'].sort_values().unique():\n",
    "            df_ex = df_data[(df_data['Tm'] == team) & (df_data['Year'] == year)].sort_values('Week').reset_index().drop(columns = 'index')\n",
    "            for row in range(0,len(df_ex.index)-3):\n",
    "                avg_rows = df_ex[(df_ex.index == row) | (df_ex.index == row + 1) | (df_ex.index == row + 2)] \n",
    "                keep_columns = ['Year','Week','Tm','QB','Passer_Rating']\n",
    "                df_keep = df_ex[df_ex.index == row + 3][keep_columns].reset_index().drop(columns = 'index')\n",
    "                df_avg = avg_rows.drop(columns = ['Year','Week','Tm','QB','Passer_Rating'])\n",
    "                df_averages = pd.DataFrame(df_avg.mean()).transpose().reset_index().drop(columns = 'index')\n",
    "                df_averages = round(df_averages,2)\n",
    "                df_averages = df_averages.add_prefix('Avg_')\n",
    "                df_final = pd.concat([df_keep,df_averages],axis = 1)\n",
    "                df = df.append(df_final)\n",
    "    \n",
    "    return df\n",
    "\n",
    "def get_four_week_average(df_data):\n",
    "\n",
    "    df = pd.DataFrame()\n",
    "\n",
    "    for team in df_data['Tm'].sort_values().unique():\n",
    "        for year in df_data['Year'].sort_values().unique():\n",
    "            df_ex = df_data[(df_data['Tm'] == team) & (df_data['Year'] == year)].sort_values('Week').reset_index().drop(columns = 'index')\n",
    "            for row in range(0,len(df_ex.index)-4):\n",
    "                avg_rows = df_ex[(df_ex.index == row) | (df_ex.index == row + 1) | \n",
    "                                 (df_ex.index == row + 2) | (df_ex.index == row + 3)] \n",
    "                keep_columns = keep_columns = ['Year','Week','Tm','QB','Passer_Rating']\n",
    "                df_keep = df_ex[df_ex.index == row + 4][keep_columns].reset_index().drop(columns = 'index')\n",
    "                df_avg = avg_rows.drop(columns = ['Year','Week','Tm','QB','Passer_Rating'])\n",
    "                df_averages = pd.DataFrame(df_avg.mean()).transpose().reset_index().drop(columns = 'index')\n",
    "                df_averages = round(df_averages,2)\n",
    "                df_averages = df_averages.add_prefix('Avg_')\n",
    "                df_final = pd.concat([df_keep,df_averages],axis = 1)\n",
    "                df = df.append(df_final)\n",
    "    \n",
    "    return df"
   ]
  },
  {
   "cell_type": "code",
   "execution_count": 43,
   "id": "0bd6bda8",
   "metadata": {},
   "outputs": [],
   "source": [
    "qbr_2 = get_two_week_average(all_df[[\"Year\", \"Week\", \"Tm\", \"QB\", \"Passer_Rating\"]])"
   ]
  },
  {
   "cell_type": "code",
   "execution_count": 25,
   "id": "3d35a2c6",
   "metadata": {},
   "outputs": [],
   "source": [
    "all_df = pd.read_csv(ws + f1)"
   ]
  },
  {
   "cell_type": "code",
   "execution_count": 26,
   "id": "e038be64",
   "metadata": {},
   "outputs": [
    {
     "data": {
      "text/html": [
       "<div>\n",
       "<style scoped>\n",
       "    .dataframe tbody tr th:only-of-type {\n",
       "        vertical-align: middle;\n",
       "    }\n",
       "\n",
       "    .dataframe tbody tr th {\n",
       "        vertical-align: top;\n",
       "    }\n",
       "\n",
       "    .dataframe thead th {\n",
       "        text-align: right;\n",
       "    }\n",
       "</style>\n",
       "<table border=\"1\" class=\"dataframe\">\n",
       "  <thead>\n",
       "    <tr style=\"text-align: right;\">\n",
       "      <th></th>\n",
       "      <th>Year</th>\n",
       "      <th>Week</th>\n",
       "      <th>Tm</th>\n",
       "      <th>Opp</th>\n",
       "      <th>Home/Away</th>\n",
       "      <th>Score</th>\n",
       "      <th>Opp_Score</th>\n",
       "      <th>W/L</th>\n",
       "      <th>Pass_Cmp</th>\n",
       "      <th>Pass_Att</th>\n",
       "      <th>...</th>\n",
       "      <th>Def_QBKD</th>\n",
       "      <th>Def_Prss</th>\n",
       "      <th>Def_Comb</th>\n",
       "      <th>Def_MTkl</th>\n",
       "      <th>Def_ADOT</th>\n",
       "      <th>Def_Cmp%</th>\n",
       "      <th>Def_Yds/Cmp</th>\n",
       "      <th>Def_Yds/Tgt</th>\n",
       "      <th>Def_Missed_Tkl%</th>\n",
       "      <th>is_home</th>\n",
       "    </tr>\n",
       "  </thead>\n",
       "  <tbody>\n",
       "    <tr>\n",
       "      <th>0</th>\n",
       "      <td>2018</td>\n",
       "      <td>1</td>\n",
       "      <td>ATL</td>\n",
       "      <td>PHI</td>\n",
       "      <td>Away</td>\n",
       "      <td>12</td>\n",
       "      <td>18</td>\n",
       "      <td>0</td>\n",
       "      <td>21</td>\n",
       "      <td>43</td>\n",
       "      <td>...</td>\n",
       "      <td>2</td>\n",
       "      <td>9</td>\n",
       "      <td>53</td>\n",
       "      <td>6</td>\n",
       "      <td>9.44</td>\n",
       "      <td>50.0</td>\n",
       "      <td>6.65</td>\n",
       "      <td>3.32</td>\n",
       "      <td>10.0</td>\n",
       "      <td>0</td>\n",
       "    </tr>\n",
       "    <tr>\n",
       "      <th>1</th>\n",
       "      <td>2019</td>\n",
       "      <td>2</td>\n",
       "      <td>ATL</td>\n",
       "      <td>PHI</td>\n",
       "      <td>Home</td>\n",
       "      <td>24</td>\n",
       "      <td>20</td>\n",
       "      <td>1</td>\n",
       "      <td>27</td>\n",
       "      <td>43</td>\n",
       "      <td>...</td>\n",
       "      <td>4</td>\n",
       "      <td>15</td>\n",
       "      <td>55</td>\n",
       "      <td>3</td>\n",
       "      <td>8.88</td>\n",
       "      <td>61.0</td>\n",
       "      <td>9.10</td>\n",
       "      <td>5.53</td>\n",
       "      <td>5.0</td>\n",
       "      <td>1</td>\n",
       "    </tr>\n",
       "    <tr>\n",
       "      <th>2</th>\n",
       "      <td>2021</td>\n",
       "      <td>1</td>\n",
       "      <td>ATL</td>\n",
       "      <td>PHI</td>\n",
       "      <td>Home</td>\n",
       "      <td>6</td>\n",
       "      <td>32</td>\n",
       "      <td>0</td>\n",
       "      <td>21</td>\n",
       "      <td>35</td>\n",
       "      <td>...</td>\n",
       "      <td>1</td>\n",
       "      <td>6</td>\n",
       "      <td>52</td>\n",
       "      <td>2</td>\n",
       "      <td>3.13</td>\n",
       "      <td>87.0</td>\n",
       "      <td>9.78</td>\n",
       "      <td>8.52</td>\n",
       "      <td>4.0</td>\n",
       "      <td>1</td>\n",
       "    </tr>\n",
       "    <tr>\n",
       "      <th>3</th>\n",
       "      <td>2020</td>\n",
       "      <td>5</td>\n",
       "      <td>PIT</td>\n",
       "      <td>PHI</td>\n",
       "      <td>Home</td>\n",
       "      <td>38</td>\n",
       "      <td>29</td>\n",
       "      <td>1</td>\n",
       "      <td>27</td>\n",
       "      <td>34</td>\n",
       "      <td>...</td>\n",
       "      <td>5</td>\n",
       "      <td>16</td>\n",
       "      <td>47</td>\n",
       "      <td>7</td>\n",
       "      <td>13.50</td>\n",
       "      <td>59.0</td>\n",
       "      <td>13.25</td>\n",
       "      <td>7.79</td>\n",
       "      <td>13.0</td>\n",
       "      <td>1</td>\n",
       "    </tr>\n",
       "    <tr>\n",
       "      <th>4</th>\n",
       "      <td>2020</td>\n",
       "      <td>11</td>\n",
       "      <td>CLE</td>\n",
       "      <td>PHI</td>\n",
       "      <td>Home</td>\n",
       "      <td>22</td>\n",
       "      <td>17</td>\n",
       "      <td>1</td>\n",
       "      <td>12</td>\n",
       "      <td>22</td>\n",
       "      <td>...</td>\n",
       "      <td>6</td>\n",
       "      <td>16</td>\n",
       "      <td>55</td>\n",
       "      <td>8</td>\n",
       "      <td>7.06</td>\n",
       "      <td>60.0</td>\n",
       "      <td>11.19</td>\n",
       "      <td>6.71</td>\n",
       "      <td>13.0</td>\n",
       "      <td>1</td>\n",
       "    </tr>\n",
       "  </tbody>\n",
       "</table>\n",
       "<p>5 rows × 114 columns</p>\n",
       "</div>"
      ],
      "text/plain": [
       "   Year  Week   Tm  Opp Home/Away  Score  Opp_Score  W/L  Pass_Cmp  Pass_Att  \\\n",
       "0  2018     1  ATL  PHI      Away     12         18    0        21        43   \n",
       "1  2019     2  ATL  PHI      Home     24         20    1        27        43   \n",
       "2  2021     1  ATL  PHI      Home      6         32    0        21        35   \n",
       "3  2020     5  PIT  PHI      Home     38         29    1        27        34   \n",
       "4  2020    11  CLE  PHI      Home     22         17    1        12        22   \n",
       "\n",
       "   ...  Def_QBKD  Def_Prss  Def_Comb  Def_MTkl  Def_ADOT  Def_Cmp%  \\\n",
       "0  ...         2         9        53         6      9.44      50.0   \n",
       "1  ...         4        15        55         3      8.88      61.0   \n",
       "2  ...         1         6        52         2      3.13      87.0   \n",
       "3  ...         5        16        47         7     13.50      59.0   \n",
       "4  ...         6        16        55         8      7.06      60.0   \n",
       "\n",
       "   Def_Yds/Cmp  Def_Yds/Tgt  Def_Missed_Tkl%  is_home  \n",
       "0         6.65         3.32             10.0        0  \n",
       "1         9.10         5.53              5.0        1  \n",
       "2         9.78         8.52              4.0        1  \n",
       "3        13.25         7.79             13.0        1  \n",
       "4        11.19         6.71             13.0        1  \n",
       "\n",
       "[5 rows x 114 columns]"
      ]
     },
     "execution_count": 26,
     "metadata": {},
     "output_type": "execute_result"
    }
   ],
   "source": [
    "all_df.head()"
   ]
  },
  {
   "cell_type": "code",
   "execution_count": 106,
   "id": "5adb59cc",
   "metadata": {},
   "outputs": [],
   "source": [
    "def make_prediction_model(df, qbr_df):\n",
    "    df = df.merge(qbr_df)\n",
    "    df = df.drop([\"Year\", \"Week\", \"Tm\", \"Opp\", \"Home/Away\", \"QB\", \"Opp_QB\"], axis = 1)\n",
    "    train, test = skl_ms.train_test_split(df, train_size = 0.75, random_state = 212121)\n",
    "    \n",
    "    train_feat = train.drop([\"Score\"], axis = 1)\n",
    "    train_val  = train.Score\n",
    "\n",
    "    test_feat = test.drop([\"Score\"], axis = 1)\n",
    "    test_val  = test.Score\n",
    "    \n",
    "    baseline_preds = [train_val.mean()] * len(train_val)\n",
    "    \n",
    "    errors = train_val - baseline_preds\n",
    "    print(abs(errors).mean())\n",
    "    print(scp_s.pearsonr(train_val, baseline_preds))\n",
    "    \n",
    "    rf = skl_e.RandomForestRegressor(n_estimators = 100, random_state = 212121)\n",
    "    rf.fit(train_feat, train_val)\n",
    "\n",
    "    preds_rf  = rf.predict(test_feat)\n",
    "    errors_rf = preds_rf - test_val\n",
    "    \n",
    "    print(abs(errors_rf).mean())\n",
    "    print(scp_s.pearsonr(test_val, preds_rf))"
   ]
  },
  {
   "cell_type": "code",
   "execution_count": 107,
   "id": "c3ad898c",
   "metadata": {},
   "outputs": [
    {
     "name": "stdout",
     "output_type": "stream",
     "text": [
      "8.349732610033858\n",
      "(nan, nan)\n"
     ]
    },
    {
     "name": "stderr",
     "output_type": "stream",
     "text": [
      "C:\\Users\\User\\AppData\\Local\\Programs\\Python\\Python37\\lib\\site-packages\\scipy\\stats\\stats.py:4023: PearsonRConstantInputWarning: An input array is constant; the correlation coefficient is not defined.\n",
      "  warnings.warn(PearsonRConstantInputWarning())\n"
     ]
    },
    {
     "name": "stdout",
     "output_type": "stream",
     "text": [
      "6.1572149122807005\n",
      "(0.6140857500936214, 1.3065882029612816e-48)\n"
     ]
    }
   ],
   "source": [
    "f2_dt = pd.read_csv(ws + f2)\n",
    "make_prediction_model(f2_dt, qbr_2)"
   ]
  },
  {
   "cell_type": "code",
   "execution_count": 108,
   "id": "0ae7226c",
   "metadata": {
    "scrolled": false
   },
   "outputs": [
    {
     "name": "stdout",
     "output_type": "stream",
     "text": [
      "8.097161653020056\n",
      "(nan, nan)\n"
     ]
    },
    {
     "name": "stderr",
     "output_type": "stream",
     "text": [
      "C:\\Users\\User\\AppData\\Local\\Programs\\Python\\Python37\\lib\\site-packages\\scipy\\stats\\stats.py:4023: PearsonRConstantInputWarning: An input array is constant; the correlation coefficient is not defined.\n",
      "  warnings.warn(PearsonRConstantInputWarning())\n"
     ]
    },
    {
     "name": "stdout",
     "output_type": "stream",
     "text": [
      "6.160966981132075\n",
      "(0.7188279249284474, 1.2549216793923092e-68)\n"
     ]
    }
   ],
   "source": [
    "f3_dt = pd.read_csv(ws + f3)\n",
    "qbr_3 = get_three_week_average(all_df[[\"Year\", \"Week\", \"Tm\", \"QB\", \"Passer_Rating\"]])\n",
    "make_prediction_model(f3_dt, qbr_3)"
   ]
  },
  {
   "cell_type": "code",
   "execution_count": 109,
   "id": "59f5e098",
   "metadata": {},
   "outputs": [
    {
     "name": "stdout",
     "output_type": "stream",
     "text": [
      "8.113005664212197\n",
      "(nan, nan)\n"
     ]
    },
    {
     "name": "stderr",
     "output_type": "stream",
     "text": [
      "C:\\Users\\User\\AppData\\Local\\Programs\\Python\\Python37\\lib\\site-packages\\scipy\\stats\\stats.py:4023: PearsonRConstantInputWarning: An input array is constant; the correlation coefficient is not defined.\n",
      "  warnings.warn(PearsonRConstantInputWarning())\n"
     ]
    },
    {
     "name": "stdout",
     "output_type": "stream",
     "text": [
      "6.12074168797954\n",
      "(0.6853283904436027, 1.5594816941699945e-55)\n"
     ]
    }
   ],
   "source": [
    "f4_dt = pd.read_csv(ws + f4)\n",
    "qbr_4 = get_four_week_average(all_df[[\"Year\", \"Week\", \"Tm\", \"QB\", \"Passer_Rating\"]])\n",
    "make_prediction_model(f4_dt, qbr_4)"
   ]
  },
  {
   "cell_type": "code",
   "execution_count": 117,
   "id": "194a2ede",
   "metadata": {},
   "outputs": [],
   "source": [
    "def make_ts_prediction_model(df, qbr, n_trees = 100):\n",
    "    df = df.merge(qbr)\n",
    "    df_1820 = df[df.Year != 2021]\n",
    "    df_21   = df[df.Year == 2021]\n",
    "\n",
    "    df_1820 = df_1820.drop([\"Year\", \"Week\", \"Tm\", \"Opp\", \"Home/Away\", \"QB\", \"Opp_QB\"], axis = 1) \n",
    "    df_21   = df_21.drop([\"Year\", \"Week\", \"Tm\", \"Opp\", \"Home/Away\", \"QB\", \"Opp_QB\"], axis = 1)\n",
    "    df_1820_feat = df_1820.drop([\"Score\"], axis = 1)\n",
    "    df_1820_val  = df_1820.Score\n",
    "\n",
    "    df_21_feat = df_21.drop([\"Score\"], axis = 1)\n",
    "    df_21_val = df_21.Score\n",
    "    \n",
    "    baseline_ts = [df_1820_val.mean()] * len(df_21_val)\n",
    "    print(abs(df_21_val - baseline_ts).mean())\n",
    "    \n",
    "    rf_2_ts = skl_e.RandomForestRegressor(n_estimators = n_trees, random_state = 212121)\n",
    "    rf_2_ts.fit(df_1820_feat, df_1820_val)\n",
    "\n",
    "    preds_ts = rf_2_ts.predict(df_21_feat)\n",
    "    errors_ts = abs(preds_ts - df_21_val)\n",
    "\n",
    "    print(errors_ts.mean())\n",
    "    print(scp_s.pearsonr(preds_ts, df_21_val))"
   ]
  },
  {
   "cell_type": "code",
   "execution_count": 114,
   "id": "d4bbb84f",
   "metadata": {},
   "outputs": [
    {
     "name": "stdout",
     "output_type": "stream",
     "text": [
      "8.473812624007936\n",
      "6.2192083333333334\n",
      "(0.675452023779344, 3.1227571079395803e-65)\n"
     ]
    }
   ],
   "source": [
    "f2_dt = pd.read_csv(ws + f2)\n",
    "make_ts_prediction_model(f2_dt, qbr_2)"
   ]
  },
  {
   "cell_type": "code",
   "execution_count": 115,
   "id": "4cfb434b",
   "metadata": {},
   "outputs": [
    {
     "name": "stdout",
     "output_type": "stream",
     "text": [
      "8.55631868131868\n",
      "6.322857142857144\n",
      "(0.6611300918871542, 1.267289114253216e-57)\n"
     ]
    }
   ],
   "source": [
    "f3_dt = pd.read_csv(ws + f3)\n",
    "make_ts_prediction_model(f3_dt, qbr_3)"
   ]
  },
  {
   "cell_type": "code",
   "execution_count": 116,
   "id": "ebbf172a",
   "metadata": {},
   "outputs": [
    {
     "name": "stdout",
     "output_type": "stream",
     "text": [
      "8.642431031010874\n",
      "6.269471153846154\n",
      "(0.6788940173071819, 1.64513085936334e-57)\n"
     ]
    }
   ],
   "source": [
    "f4_dt = pd.read_csv(ws + f4)\n",
    "make_ts_prediction_model(f4_dt, qbr_4)"
   ]
  },
  {
   "cell_type": "code",
   "execution_count": 118,
   "id": "4160ee5b",
   "metadata": {},
   "outputs": [
    {
     "name": "stdout",
     "output_type": "stream",
     "text": [
      "8.473812624007936\n",
      "6.226310416666666\n",
      "(0.6765607897702589, 1.6117151562700527e-65)\n"
     ]
    }
   ],
   "source": [
    "f2_dt = pd.read_csv(ws + f2)\n",
    "make_ts_prediction_model(f2_dt, qbr_2, n_trees = 100)"
   ]
  },
  {
   "cell_type": "code",
   "execution_count": 99,
   "id": "81de9388",
   "metadata": {},
   "outputs": [
    {
     "data": {
      "text/plain": [
       "(0.675452023779344, 3.1227571079395803e-65)"
      ]
     },
     "execution_count": 99,
     "metadata": {},
     "output_type": "execute_result"
    }
   ],
   "source": [
    "scp_s.pearsonr(preds_ts, f2_21_val)"
   ]
  },
  {
   "cell_type": "code",
   "execution_count": 120,
   "id": "16e0e334",
   "metadata": {},
   "outputs": [
    {
     "data": {
      "text/plain": [
       "9.58"
      ]
     },
     "execution_count": 120,
     "metadata": {},
     "output_type": "execute_result"
    }
   ],
   "source": [
    "preds_ts.min()"
   ]
  },
  {
   "cell_type": "code",
   "execution_count": 121,
   "id": "3c9516e2",
   "metadata": {},
   "outputs": [
    {
     "data": {
      "text/plain": [
       "39.2"
      ]
     },
     "execution_count": 121,
     "metadata": {},
     "output_type": "execute_result"
    }
   ],
   "source": [
    "preds_ts.max()"
   ]
  },
  {
   "cell_type": "code",
   "execution_count": 97,
   "id": "fc701927",
   "metadata": {},
   "outputs": [
    {
     "data": {
      "text/plain": [
       "<matplotlib.collections.PathCollection at 0x1b7d5061088>"
      ]
     },
     "execution_count": 97,
     "metadata": {},
     "output_type": "execute_result"
    },
    {
     "data": {
      "image/png": "[encoded data removed]",
      "text/plain": [
       "<Figure size 432x288 with 1 Axes>"
      ]
     },
     "metadata": {
      "needs_background": "light"
     },
     "output_type": "display_data"
    }
   ],
   "source": [
    "plt.scatter(preds_ts, f2_21_val)"
   ]
  },
  {
   "cell_type": "code",
   "execution_count": null,
   "id": "2bafb172",
   "metadata": {},
   "outputs": [],
   "source": [
    "def make_ts_prediction_model_hpo(df, qbr, n_trees = 100):\n",
    "    df = df.merge(qbr)\n",
    "    df_1820 = df[df.Year != 2021]\n",
    "    df_21   = df[df.Year == 2021]\n",
    "\n",
    "    df_1820 = df_1820.drop([\"Year\", \"Week\", \"Tm\", \"Opp\", \"Home/Away\", \"QB\", \"Opp_QB\"], axis = 1) \n",
    "    df_21   = df_21.drop([\"Year\", \"Week\", \"Tm\", \"Opp\", \"Home/Away\", \"QB\", \"Opp_QB\"], axis = 1)\n",
    "    df_1820_feat = df_1820.drop([\"Score\"], axis = 1)\n",
    "    df_1820_val  = df_1820.Score\n",
    "\n",
    "    df_21_feat = df_21.drop([\"Score\"], axis = 1)\n",
    "    df_21_val = df_21.Score\n",
    "    \n",
    "    baseline_ts = [df_1820_val.mean()] * len(df_21_val)\n",
    "    print(abs(df_21_val - baseline_ts).mean())\n",
    "    \n",
    "    rf_2_ts = skl_e.RandomForestRegressor(n_estimators = n_trees, \n",
    "                                          random_state = 212121,\n",
    "                                         criterion = crit,\n",
    "                                         max_depth = md,\n",
    "                                         min_samples_split = mss,\n",
    "                                         min_samples_leaf = msl,\n",
    "                                         max_features = mf)\n",
    "    rf_2_ts.fit(df_1820_feat, df_1820_val)\n",
    "\n",
    "    preds_ts = rf_2_ts.predict(df_21_feat)\n",
    "    errors_ts = abs(preds_ts - df_21_val)\n",
    "\n",
    "    print(errors_ts.mean())\n",
    "    print(scp_s.pearsonr(preds_ts, df_21_val))\n",
    "    \n",
    "    return(errors_ts.mean(), rf_2)"
   ]
  },
  {
   "cell_type": "code",
   "execution_count": 128,
   "id": "e34820e7",
   "metadata": {},
   "outputs": [
    {
     "name": "stdout",
     "output_type": "stream",
     "text": [
      "Fitting 5 folds for each of 176 candidates, totalling 880 fits\n"
     ]
    },
    {
     "data": {
      "text/plain": [
       "GridSearchCV(cv=5, estimator=RandomForestRegressor(), n_jobs=-1,\n",
       "             param_grid={'bootstrap': [True, False],\n",
       "                         'max_depth': [10, 20, 30, 40, 50, 60, 70, 80, 90, 100,\n",
       "                                       None],\n",
       "                         'min_samples_leaf': [1, 2, 4, 10],\n",
       "                         'n_estimators': [100, 500]},\n",
       "             verbose=2)"
      ]
     },
     "execution_count": 128,
     "metadata": {},
     "output_type": "execute_result"
    }
   ],
   "source": [
    "param_grid = {\"bootstrap\": [True, False],\n",
    "         \"max_depth\": [10, 20, 30, 40, 50, 60, 70, 80, 90, 100, None],\n",
    "         \"min_samples_leaf\": [1, 2, 4, 10],\n",
    "         \"n_estimators\": [100, 500]}\n",
    "\n",
    "rf = skl_e.RandomForestRegressor()\n",
    "grid_search = skl_ms.GridSearchCV(estimator = rf, param_grid = param_grid, cv = 5, n_jobs = -1, verbose = 2)\n",
    "grid_search.fit(f2_1820_feat, f2_1820_val)"
   ]
  },
  {
   "cell_type": "code",
   "execution_count": 129,
   "id": "a6d0f26e",
   "metadata": {},
   "outputs": [
    {
     "data": {
      "text/plain": [
       "{'bootstrap': True,\n",
       " 'max_depth': 30,\n",
       " 'min_samples_leaf': 1,\n",
       " 'n_estimators': 100}"
      ]
     },
     "execution_count": 129,
     "metadata": {},
     "output_type": "execute_result"
    }
   ],
   "source": [
    "grid_search.best_params_"
   ]
  },
  {
   "cell_type": "code",
   "execution_count": 135,
   "id": "44904fe1",
   "metadata": {},
   "outputs": [
    {
     "name": "stdout",
     "output_type": "stream",
     "text": [
      "6.1946666666666665\n"
     ]
    }
   ],
   "source": [
    "best_grid = grid_search.best_estimator_\n",
    "\n",
    "best_preds = best_grid.predict(f2_21_feat)\n",
    "print(abs(best_preds - f2_21_val).mean())\n"
   ]
  },
  {
   "cell_type": "code",
   "execution_count": 140,
   "id": "150f19e7",
   "metadata": {},
   "outputs": [],
   "source": [
    "import sklearn.decomposition as skl_d\n",
    "import sklearn.preprocessing as skl_p\n",
    "\n",
    "scaler = skl_p.StandardScaler()\n",
    "x = skl_p.StandardScaler().fit_transform(f2_1820_feat)\n",
    "x_test = skl_p.StandardScaler().fit_transform(f2_21_feat)\n",
    "\n",
    "pca = skl_d.PCA(n_components = 0.95)\n",
    "pca.fit(x)\n",
    "reduced = pca.transform(x)\n",
    "reduced_test = pca.transform(x_test)\n"
   ]
  },
  {
   "cell_type": "code",
   "execution_count": 142,
   "id": "0847df08",
   "metadata": {},
   "outputs": [
    {
     "name": "stdout",
     "output_type": "stream",
     "text": [
      "7.383145833333333\n",
      "(0.5464199953950837, 1.0278188770718421e-38)\n"
     ]
    }
   ],
   "source": [
    "rf_pca = skl_e.RandomForestRegressor(bootstrap = True, max_depth = 30, min_samples_leaf = 1, n_estimators = 100)\n",
    "\n",
    "rf_pca.fit(reduced, f2_1820_val)\n",
    "\n",
    "preds_ts = rf_pca.predict(reduced_test)\n",
    "errors_ts = abs(preds_ts - f2_21_val)\n",
    "\n",
    "print(errors_ts.mean())\n",
    "print(scp_s.pearsonr(preds_ts, f2_21_val))\n",
    "    "
   ]
  },
  {
   "cell_type": "code",
   "execution_count": 168,
   "id": "eee80dc6",
   "metadata": {},
   "outputs": [],
   "source": [
    "def make_ts_gb_prediction_model(df, qbr, md, n_trees = 100):\n",
    "    df = df.merge(qbr)\n",
    "    df_1820 = df[df.Year != 2021]\n",
    "    df_21   = df[df.Year == 2021]\n",
    "\n",
    "    df_1820 = df_1820.drop([\"Year\", \"Week\", \"Tm\", \"Opp\", \"Home/Away\", \"QB\", \"Opp_QB\"], axis = 1) \n",
    "    df_21   = df_21.drop([\"Year\", \"Week\", \"Tm\", \"Opp\", \"Home/Away\", \"QB\", \"Opp_QB\"], axis = 1)\n",
    "    df_1820_feat = df_1820.drop([\"Score\"], axis = 1)\n",
    "    df_1820_val  = df_1820.Score\n",
    "\n",
    "    df_21_feat = df_21.drop([\"Score\"], axis = 1)\n",
    "    df_21_val = df_21.Score\n",
    "    \n",
    "    baseline_ts = [df_1820_val.mean()] * len(df_21_val)\n",
    "    print(abs(df_21_val - baseline_ts).mean())\n",
    "    \n",
    "    rf_2_ts = skl_e.GradientBoostingRegressor(random_state = 212121,\n",
    "                                             n_estimators = 100,\n",
    "                                             learning_rate = 0.05,\n",
    "                                             max_depth = md)\n",
    "    rf_2_ts.fit(df_1820_feat, df_1820_val)\n",
    "\n",
    "    preds_ts = rf_2_ts.predict(df_21_feat)\n",
    "    errors_ts = abs(preds_ts - df_21_val)\n",
    "\n",
    "    print(errors_ts.mean())\n",
    "    print(scp_s.pearsonr(preds_ts, df_21_val))"
   ]
  },
  {
   "cell_type": "code",
   "execution_count": 162,
   "id": "82434ffe",
   "metadata": {},
   "outputs": [
    {
     "name": "stdout",
     "output_type": "stream",
     "text": [
      "8.473812624007936\n",
      "6.220694798962819\n",
      "(0.6733154327330083, 1.1079857612807656e-64)\n"
     ]
    }
   ],
   "source": [
    "f2_dt = pd.read_csv(ws + f2)\n",
    "make_ts_gb_prediction_model(f2_dt, qbr_2)"
   ]
  },
  {
   "cell_type": "code",
   "execution_count": 169,
   "id": "7a288bb6",
   "metadata": {},
   "outputs": [
    {
     "name": "stdout",
     "output_type": "stream",
     "text": [
      "8.473812624007936\n",
      "6.216239480821639\n",
      "(0.674177515868934, 6.65543266506716e-65)\n"
     ]
    }
   ],
   "source": [
    "f2_dt = pd.read_csv(ws + f2)\n",
    "make_ts_gb_prediction_model(f2_dt, qbr_2, md = 5)"
   ]
  },
  {
   "cell_type": "code",
   "execution_count": 170,
   "id": "91d416f4",
   "metadata": {},
   "outputs": [
    {
     "name": "stdout",
     "output_type": "stream",
     "text": [
      "8.473812624007936\n",
      "6.156744673140074\n",
      "(0.6823361689963924, 4.9025256340114966e-67)\n"
     ]
    }
   ],
   "source": [
    "f2_dt = pd.read_csv(ws + f2)\n",
    "make_ts_gb_prediction_model(f2_dt, qbr_2, md = 3)"
   ]
  },
  {
   "cell_type": "code",
   "execution_count": 171,
   "id": "81f371f8",
   "metadata": {},
   "outputs": [
    {
     "name": "stdout",
     "output_type": "stream",
     "text": [
      "8.473812624007936\n",
      "6.135342210299249\n",
      "(0.6884749792139011, 1.094309186794726e-68)\n"
     ]
    }
   ],
   "source": [
    "f2_dt = pd.read_csv(ws + f2)\n",
    "make_ts_gb_prediction_model(f2_dt, qbr_2, md = 2)"
   ]
  },
  {
   "cell_type": "code",
   "execution_count": 174,
   "id": "ca12247f",
   "metadata": {},
   "outputs": [],
   "source": [
    "def make_ts_gb_prediction_model(df, qbr, md, mf, n_trees = 100):\n",
    "    df = df.merge(qbr)\n",
    "    df_1820 = df[df.Year != 2021]\n",
    "    df_21   = df[df.Year == 2021]\n",
    "\n",
    "    df_1820 = df_1820.drop([\"Year\", \"Week\", \"Tm\", \"Opp\", \"Home/Away\", \"QB\", \"Opp_QB\"], axis = 1) \n",
    "    df_21   = df_21.drop([\"Year\", \"Week\", \"Tm\", \"Opp\", \"Home/Away\", \"QB\", \"Opp_QB\"], axis = 1)\n",
    "    df_1820_feat = df_1820.drop([\"Score\"], axis = 1)\n",
    "    df_1820_val  = df_1820.Score\n",
    "\n",
    "    df_21_feat = df_21.drop([\"Score\"], axis = 1)\n",
    "    df_21_val = df_21.Score\n",
    "    \n",
    "    baseline_ts = [df_1820_val.mean()] * len(df_21_val)\n",
    "    print(abs(df_21_val - baseline_ts).mean())\n",
    "    \n",
    "    rf_2_ts = skl_e.GradientBoostingRegressor(random_state = 212121,\n",
    "                                             n_estimators = 100,\n",
    "                                             learning_rate = 0.05,\n",
    "                                             max_depth = md,\n",
    "                                             max_features = mf)\n",
    "    rf_2_ts.fit(df_1820_feat, df_1820_val)\n",
    "\n",
    "    preds_ts = rf_2_ts.predict(df_21_feat)\n",
    "    errors_ts = abs(preds_ts - df_21_val)\n",
    "\n",
    "    print(errors_ts.mean())\n",
    "    print(scp_s.pearsonr(preds_ts, df_21_val))"
   ]
  },
  {
   "cell_type": "code",
   "execution_count": 177,
   "id": "a3a1bbc2",
   "metadata": {},
   "outputs": [
    {
     "name": "stdout",
     "output_type": "stream",
     "text": [
      "8.473812624007936\n",
      "6.143748786934943\n",
      "(0.6901025167888286, 3.930323128963414e-69)\n"
     ]
    }
   ],
   "source": [
    "f2_dt = pd.read_csv(ws + f2)\n",
    "make_ts_gb_prediction_model(f2_dt, qbr_2, md = 2, mf = 80)"
   ]
  },
  {
   "cell_type": "code",
   "execution_count": 187,
   "id": "b9ada316",
   "metadata": {},
   "outputs": [
    {
     "name": "stdout",
     "output_type": "stream",
     "text": [
      "8.473812624007936\n",
      "6.135342210299249\n",
      "(0.6884749792139011, 1.094309186794726e-68)\n"
     ]
    }
   ],
   "source": [
    "f2_dt = pd.read_csv(ws + f2)\n",
    "make_ts_gb_prediction_model(f2_dt, qbr_2, md = 2, mf = None)"
   ]
  },
  {
   "cell_type": "code",
   "execution_count": 214,
   "id": "e03dbad1",
   "metadata": {},
   "outputs": [],
   "source": [
    "def make_ts_gb_prediction_model(df, qbr, md, mf, mln, loss, n_trees = 100):\n",
    "    df = df.merge(qbr)\n",
    "    df_1820 = df[df.Year != 2021]\n",
    "    df_21   = df[df.Year == 2021]\n",
    "\n",
    "    df_1820 = df_1820.drop([\"Year\", \"Week\", \"Tm\", \"Opp\", \"Home/Away\", \"QB\", \"Opp_QB\"], axis = 1) \n",
    "    df_21   = df_21.drop([\"Year\", \"Week\", \"Tm\", \"Opp\", \"Home/Away\", \"QB\", \"Opp_QB\"], axis = 1)\n",
    "    df_1820_feat = df_1820.drop([\"Score\"], axis = 1)\n",
    "    df_1820_val  = df_1820.Score\n",
    "\n",
    "    df_21_feat = df_21.drop([\"Score\"], axis = 1)\n",
    "    df_21_val = df_21.Score\n",
    "    \n",
    "    baseline_ts = [df_1820_val.mean()] * len(df_21_val)\n",
    "    print(abs(df_21_val - baseline_ts).mean())\n",
    "    \n",
    "    rf_2_ts = skl_e.GradientBoostingRegressor(random_state = 212121,\n",
    "                                             n_estimators = 100,\n",
    "                                             learning_rate = 0.05,\n",
    "                                             max_depth = md,\n",
    "                                             max_features = mf,\n",
    "                                             max_leaf_nodes = mln,\n",
    "                                             loss = loss)\n",
    "    rf_2_ts.fit(df_1820_feat, df_1820_val)\n",
    "\n",
    "    preds_ts = rf_2_ts.predict(df_21_feat)\n",
    "    errors_ts = abs(preds_ts - df_21_val)\n",
    "\n",
    "    print(errors_ts.mean())\n",
    "    print(scp_s.pearsonr(preds_ts, df_21_val))"
   ]
  },
  {
   "cell_type": "code",
   "execution_count": 218,
   "id": "30ab7531",
   "metadata": {},
   "outputs": [
    {
     "name": "stdout",
     "output_type": "stream",
     "text": [
      "8.473812624007936\n",
      "6.08886091150635\n",
      "(0.6931851984215414, 5.546015674937004e-70)\n"
     ]
    }
   ],
   "source": [
    "f2_dt = pd.read_csv(ws + f2)\n",
    "make_ts_gb_prediction_model(f2_dt, qbr_2, mf = None, md = 2, mln = 20, loss = \"huber\", n_trees = 1000)"
   ]
  },
  {
   "cell_type": "code",
   "execution_count": 228,
   "id": "e20bd07d",
   "metadata": {},
   "outputs": [],
   "source": [
    "def make_ts_gb_prediction_model(df, qbr, md, mf, mln, loss, a, n_trees = 100):\n",
    "    df = df.merge(qbr)\n",
    "    df_1820 = df[df.Year != 2021]\n",
    "    df_21   = df[df.Year == 2021]\n",
    "\n",
    "    df_1820 = df_1820.drop([\"Year\", \"Week\", \"Tm\", \"Opp\", \"Home/Away\", \"QB\", \"Opp_QB\"], axis = 1) \n",
    "    df_21   = df_21.drop([\"Year\", \"Week\", \"Tm\", \"Opp\", \"Home/Away\", \"QB\", \"Opp_QB\"], axis = 1)\n",
    "    df_1820_feat = df_1820.drop([\"Score\"], axis = 1)\n",
    "    df_1820_val  = df_1820.Score\n",
    "\n",
    "    df_21_feat = df_21.drop([\"Score\"], axis = 1)\n",
    "    df_21_val = df_21.Score\n",
    "    \n",
    "    baseline_ts = [df_1820_val.mean()] * len(df_21_val)\n",
    "    print(abs(df_21_val - baseline_ts).mean())\n",
    "    \n",
    "    rf_2_ts = skl_e.GradientBoostingRegressor(random_state = 212121,\n",
    "                                             n_estimators = 100,\n",
    "                                             learning_rate = 0.05,\n",
    "                                             max_depth = md,\n",
    "                                             max_features = mf,\n",
    "                                             max_leaf_nodes = mln,\n",
    "                                             loss = loss,\n",
    "                                             alpha = a)\n",
    "    rf_2_ts.fit(df_1820_feat, df_1820_val)\n",
    "\n",
    "    preds_ts = rf_2_ts.predict(df_21_feat)\n",
    "    errors_ts = abs(preds_ts - df_21_val)\n",
    "\n",
    "    print(errors_ts.mean())\n",
    "    print(scp_s.pearsonr(preds_ts, df_21_val))"
   ]
  },
  {
   "cell_type": "code",
   "execution_count": 237,
   "id": "65b0d9bf",
   "metadata": {},
   "outputs": [
    {
     "name": "stdout",
     "output_type": "stream",
     "text": [
      "8.473812624007936\n",
      "6.076871817659377\n",
      "(0.6931724573919491, 5.5913694252115264e-70)\n"
     ]
    }
   ],
   "source": [
    "f2_dt = pd.read_csv(ws + f2)\n",
    "make_ts_gb_prediction_model(f2_dt, qbr_2, mf = None, md = 2, mln = 20, loss = \"huber\", a = 0.84, n_trees = 1000)"
   ]
  },
  {
   "cell_type": "code",
   "execution_count": 241,
   "id": "74bb3b33",
   "metadata": {},
   "outputs": [],
   "source": [
    "def make_ts_gb_prediction_model(df, qbr, md, mf, mln, loss, a, mwfl, n_trees = 100):\n",
    "    df = df.merge(qbr)\n",
    "    df_1820 = df[df.Year != 2021]\n",
    "    df_21   = df[df.Year == 2021]\n",
    "\n",
    "    df_1820 = df_1820.drop([\"Year\", \"Week\", \"Tm\", \"Opp\", \"Home/Away\", \"QB\", \"Opp_QB\"], axis = 1) \n",
    "    df_21   = df_21.drop([\"Year\", \"Week\", \"Tm\", \"Opp\", \"Home/Away\", \"QB\", \"Opp_QB\"], axis = 1)\n",
    "    df_1820_feat = df_1820.drop([\"Score\"], axis = 1)\n",
    "    df_1820_val  = df_1820.Score\n",
    "\n",
    "    df_21_feat = df_21.drop([\"Score\"], axis = 1)\n",
    "    df_21_val = df_21.Score\n",
    "    \n",
    "    baseline_ts = [df_1820_val.mean()] * len(df_21_val)\n",
    "    print(abs(df_21_val - baseline_ts).mean())\n",
    "    \n",
    "    rf_2_ts = skl_e.GradientBoostingRegressor(random_state = 212121,\n",
    "                                             n_estimators = 100,\n",
    "                                             learning_rate = 0.05,\n",
    "                                             max_depth = md,\n",
    "                                             max_features = mf,\n",
    "                                             max_leaf_nodes = mln,\n",
    "                                             loss = loss,\n",
    "                                             alpha = a,\n",
    "                                             min_weight_fraction_leaf = mwfl)\n",
    "    rf_2_ts.fit(df_1820_feat, df_1820_val)\n",
    "\n",
    "    preds_ts = rf_2_ts.predict(df_21_feat)\n",
    "    errors_ts = abs(preds_ts - df_21_val)\n",
    "\n",
    "    print(errors_ts.mean())\n",
    "    print(scp_s.pearsonr(preds_ts, df_21_val))"
   ]
  },
  {
   "cell_type": "code",
   "execution_count": 252,
   "id": "6a47573c",
   "metadata": {},
   "outputs": [
    {
     "name": "stdout",
     "output_type": "stream",
     "text": [
      "8.473812624007936\n",
      "6.076871817659377\n",
      "(0.6931724573919491, 5.5913694252115264e-70)\n"
     ]
    }
   ],
   "source": [
    "f2_dt = pd.read_csv(ws + f2)\n",
    "make_ts_gb_prediction_model(f2_dt, qbr_2, mf = None, md = 2, mln = 20, loss = \"huber\", mwfl = 0.00, a = 0.84, n_trees = 1000)"
   ]
  },
  {
   "cell_type": "code",
   "execution_count": 253,
   "id": "9cf218d1",
   "metadata": {},
   "outputs": [],
   "source": [
    "def make_ts_gb_prediction_model(df, qbr, md, mf, mln, loss, a, msl, mwfl, n_trees = 100):\n",
    "    df = df.merge(qbr)\n",
    "    df_1820 = df[df.Year != 2021]\n",
    "    df_21   = df[df.Year == 2021]\n",
    "\n",
    "    df_1820 = df_1820.drop([\"Year\", \"Week\", \"Tm\", \"Opp\", \"Home/Away\", \"QB\", \"Opp_QB\"], axis = 1) \n",
    "    df_21   = df_21.drop([\"Year\", \"Week\", \"Tm\", \"Opp\", \"Home/Away\", \"QB\", \"Opp_QB\"], axis = 1)\n",
    "    df_1820_feat = df_1820.drop([\"Score\"], axis = 1)\n",
    "    df_1820_val  = df_1820.Score\n",
    "\n",
    "    df_21_feat = df_21.drop([\"Score\"], axis = 1)\n",
    "    df_21_val = df_21.Score\n",
    "    \n",
    "    baseline_ts = [df_1820_val.mean()] * len(df_21_val)\n",
    "    print(abs(df_21_val - baseline_ts).mean())\n",
    "    \n",
    "    rf_2_ts = skl_e.GradientBoostingRegressor(random_state = 212121,\n",
    "                                             n_estimators = 100,\n",
    "                                             learning_rate = 0.05,\n",
    "                                             max_depth = md,\n",
    "                                             max_features = mf,\n",
    "                                             max_leaf_nodes = mln,\n",
    "                                             loss = loss,\n",
    "                                             alpha = a,\n",
    "                                             min_weight_fraction_leaf = mwfl,\n",
    "                                             min_samples_leaf = msl)\n",
    "    rf_2_ts.fit(df_1820_feat, df_1820_val)\n",
    "\n",
    "    preds_ts = rf_2_ts.predict(df_21_feat)\n",
    "    errors_ts = abs(preds_ts - df_21_val)\n",
    "\n",
    "    print(errors_ts.mean())\n",
    "    print(scp_s.pearsonr(preds_ts, df_21_val))"
   ]
  },
  {
   "cell_type": "code",
   "execution_count": 257,
   "id": "3f6b35ce",
   "metadata": {},
   "outputs": [
    {
     "name": "stdout",
     "output_type": "stream",
     "text": [
      "8.473812624007936\n",
      "6.046252843572576\n",
      "(0.6937844307408615, 3.779345547619076e-70)\n"
     ]
    }
   ],
   "source": [
    "f2_dt = pd.read_csv(ws + f2)\n",
    "make_ts_gb_prediction_model(f2_dt, qbr_2, mf = None, md = 2, mln = 20, loss = \"huber\",\n",
    "                            mwfl = 0.00, a = 0.84, msl = 0.09, n_trees = 1000)"
   ]
  },
  {
   "cell_type": "code",
   "execution_count": 267,
   "id": "5b16960d",
   "metadata": {},
   "outputs": [
    {
     "name": "stdout",
     "output_type": "stream",
     "text": [
      "8.473812624007936\n",
      "6.422005569329612\n",
      "(0.6373196176281762, 4.5759211207227975e-56)\n"
     ]
    }
   ],
   "source": [
    "f2_dt = pd.read_csv(ws + f2)\n",
    "make_ts_gb_prediction_model(f2_dt, qbr_2, mf = None, md = 2, mln = 20, loss = \"huber\",\n",
    "                            mwfl = 0.00, a = 0.84, msl = 0.4, n_trees = 1000)"
   ]
  },
  {
   "cell_type": "code",
   "execution_count": null,
   "id": "0aa1854a",
   "metadata": {},
   "outputs": [],
   "source": [
    "# Get opponent QBR\n",
    "oqbr_2 = get_two_week_average(all_df[[\"Year\", \"Week\", \"Tm\", \"Opp_QB\", \"Opp_Avg_Passer_Rating\"]])"
   ]
  },
  {
   "cell_type": "code",
   "execution_count": 271,
   "id": "28891ab3",
   "metadata": {},
   "outputs": [
    {
     "name": "stdout",
     "output_type": "stream",
     "text": [
      "Opp\n",
      "Opp_Score\n"
     ]
    }
   ],
   "source": [
    "for col in all_df.columns:\n",
    "    if \"Opp\" in col:\n",
    "        print(col)"
   ]
  },
  {
   "cell_type": "code",
   "execution_count": 269,
   "id": "655b7837",
   "metadata": {},
   "outputs": [
    {
     "ename": "KeyError",
     "evalue": "'Opp_Avg_Passer_Rating'",
     "output_type": "error",
     "traceback": [
      "\u001b[1;31m---------------------------------------------------------------------------\u001b[0m",
      "\u001b[1;31mKeyError\u001b[0m                                  Traceback (most recent call last)",
      "\u001b[1;32m~\\AppData\\Local\\Programs\\Python\\Python37\\lib\\site-packages\\pandas\\core\\indexes\\base.py\u001b[0m in \u001b[0;36mget_loc\u001b[1;34m(self, key, method, tolerance)\u001b[0m\n\u001b[0;32m   3360\u001b[0m             \u001b[1;32mtry\u001b[0m\u001b[1;33m:\u001b[0m\u001b[1;33m\u001b[0m\u001b[1;33m\u001b[0m\u001b[0m\n\u001b[1;32m-> 3361\u001b[1;33m                 \u001b[1;32mreturn\u001b[0m \u001b[0mself\u001b[0m\u001b[1;33m.\u001b[0m\u001b[0m_engine\u001b[0m\u001b[1;33m.\u001b[0m\u001b[0mget_loc\u001b[0m\u001b[1;33m(\u001b[0m\u001b[0mcasted_key\u001b[0m\u001b[1;33m)\u001b[0m\u001b[1;33m\u001b[0m\u001b[1;33m\u001b[0m\u001b[0m\n\u001b[0m\u001b[0;32m   3362\u001b[0m             \u001b[1;32mexcept\u001b[0m \u001b[0mKeyError\u001b[0m \u001b[1;32mas\u001b[0m \u001b[0merr\u001b[0m\u001b[1;33m:\u001b[0m\u001b[1;33m\u001b[0m\u001b[1;33m\u001b[0m\u001b[0m\n",
      "\u001b[1;32m~\\AppData\\Local\\Programs\\Python\\Python37\\lib\\site-packages\\pandas\\_libs\\index.pyx\u001b[0m in \u001b[0;36mpandas._libs.index.IndexEngine.get_loc\u001b[1;34m()\u001b[0m\n",
      "\u001b[1;32m~\\AppData\\Local\\Programs\\Python\\Python37\\lib\\site-packages\\pandas\\_libs\\index.pyx\u001b[0m in \u001b[0;36mpandas._libs.index.IndexEngine.get_loc\u001b[1;34m()\u001b[0m\n",
      "\u001b[1;32mpandas\\_libs\\hashtable_class_helper.pxi\u001b[0m in \u001b[0;36mpandas._libs.hashtable.PyObjectHashTable.get_item\u001b[1;34m()\u001b[0m\n",
      "\u001b[1;32mpandas\\_libs\\hashtable_class_helper.pxi\u001b[0m in \u001b[0;36mpandas._libs.hashtable.PyObjectHashTable.get_item\u001b[1;34m()\u001b[0m\n",
      "\u001b[1;31mKeyError\u001b[0m: 'Opp_Avg_Passer_Rating'",
      "\nThe above exception was the direct cause of the following exception:\n",
      "\u001b[1;31mKeyError\u001b[0m                                  Traceback (most recent call last)",
      "\u001b[1;32m~\\AppData\\Local\\Temp\\ipykernel_14768\\1623981423.py\u001b[0m in \u001b[0;36m<module>\u001b[1;34m\u001b[0m\n\u001b[1;32m----> 1\u001b[1;33m \u001b[0mall_df\u001b[0m\u001b[1;33m[\u001b[0m\u001b[1;34m\"Opp_Avg_Passer_Rating\"\u001b[0m\u001b[1;33m]\u001b[0m\u001b[1;33m\u001b[0m\u001b[1;33m\u001b[0m\u001b[0m\n\u001b[0m",
      "\u001b[1;32m~\\AppData\\Local\\Programs\\Python\\Python37\\lib\\site-packages\\pandas\\core\\frame.py\u001b[0m in \u001b[0;36m__getitem__\u001b[1;34m(self, key)\u001b[0m\n\u001b[0;32m   3456\u001b[0m             \u001b[1;32mif\u001b[0m \u001b[0mself\u001b[0m\u001b[1;33m.\u001b[0m\u001b[0mcolumns\u001b[0m\u001b[1;33m.\u001b[0m\u001b[0mnlevels\u001b[0m \u001b[1;33m>\u001b[0m \u001b[1;36m1\u001b[0m\u001b[1;33m:\u001b[0m\u001b[1;33m\u001b[0m\u001b[1;33m\u001b[0m\u001b[0m\n\u001b[0;32m   3457\u001b[0m                 \u001b[1;32mreturn\u001b[0m \u001b[0mself\u001b[0m\u001b[1;33m.\u001b[0m\u001b[0m_getitem_multilevel\u001b[0m\u001b[1;33m(\u001b[0m\u001b[0mkey\u001b[0m\u001b[1;33m)\u001b[0m\u001b[1;33m\u001b[0m\u001b[1;33m\u001b[0m\u001b[0m\n\u001b[1;32m-> 3458\u001b[1;33m             \u001b[0mindexer\u001b[0m \u001b[1;33m=\u001b[0m \u001b[0mself\u001b[0m\u001b[1;33m.\u001b[0m\u001b[0mcolumns\u001b[0m\u001b[1;33m.\u001b[0m\u001b[0mget_loc\u001b[0m\u001b[1;33m(\u001b[0m\u001b[0mkey\u001b[0m\u001b[1;33m)\u001b[0m\u001b[1;33m\u001b[0m\u001b[1;33m\u001b[0m\u001b[0m\n\u001b[0m\u001b[0;32m   3459\u001b[0m             \u001b[1;32mif\u001b[0m \u001b[0mis_integer\u001b[0m\u001b[1;33m(\u001b[0m\u001b[0mindexer\u001b[0m\u001b[1;33m)\u001b[0m\u001b[1;33m:\u001b[0m\u001b[1;33m\u001b[0m\u001b[1;33m\u001b[0m\u001b[0m\n\u001b[0;32m   3460\u001b[0m                 \u001b[0mindexer\u001b[0m \u001b[1;33m=\u001b[0m \u001b[1;33m[\u001b[0m\u001b[0mindexer\u001b[0m\u001b[1;33m]\u001b[0m\u001b[1;33m\u001b[0m\u001b[1;33m\u001b[0m\u001b[0m\n",
      "\u001b[1;32m~\\AppData\\Local\\Programs\\Python\\Python37\\lib\\site-packages\\pandas\\core\\indexes\\base.py\u001b[0m in \u001b[0;36mget_loc\u001b[1;34m(self, key, method, tolerance)\u001b[0m\n\u001b[0;32m   3361\u001b[0m                 \u001b[1;32mreturn\u001b[0m \u001b[0mself\u001b[0m\u001b[1;33m.\u001b[0m\u001b[0m_engine\u001b[0m\u001b[1;33m.\u001b[0m\u001b[0mget_loc\u001b[0m\u001b[1;33m(\u001b[0m\u001b[0mcasted_key\u001b[0m\u001b[1;33m)\u001b[0m\u001b[1;33m\u001b[0m\u001b[1;33m\u001b[0m\u001b[0m\n\u001b[0;32m   3362\u001b[0m             \u001b[1;32mexcept\u001b[0m \u001b[0mKeyError\u001b[0m \u001b[1;32mas\u001b[0m \u001b[0merr\u001b[0m\u001b[1;33m:\u001b[0m\u001b[1;33m\u001b[0m\u001b[1;33m\u001b[0m\u001b[0m\n\u001b[1;32m-> 3363\u001b[1;33m                 \u001b[1;32mraise\u001b[0m \u001b[0mKeyError\u001b[0m\u001b[1;33m(\u001b[0m\u001b[0mkey\u001b[0m\u001b[1;33m)\u001b[0m \u001b[1;32mfrom\u001b[0m \u001b[0merr\u001b[0m\u001b[1;33m\u001b[0m\u001b[1;33m\u001b[0m\u001b[0m\n\u001b[0m\u001b[0;32m   3364\u001b[0m \u001b[1;33m\u001b[0m\u001b[0m\n\u001b[0;32m   3365\u001b[0m         \u001b[1;32mif\u001b[0m \u001b[0mis_scalar\u001b[0m\u001b[1;33m(\u001b[0m\u001b[0mkey\u001b[0m\u001b[1;33m)\u001b[0m \u001b[1;32mand\u001b[0m \u001b[0misna\u001b[0m\u001b[1;33m(\u001b[0m\u001b[0mkey\u001b[0m\u001b[1;33m)\u001b[0m \u001b[1;32mand\u001b[0m \u001b[1;32mnot\u001b[0m \u001b[0mself\u001b[0m\u001b[1;33m.\u001b[0m\u001b[0mhasnans\u001b[0m\u001b[1;33m:\u001b[0m\u001b[1;33m\u001b[0m\u001b[1;33m\u001b[0m\u001b[0m\n",
      "\u001b[1;31mKeyError\u001b[0m: 'Opp_Avg_Passer_Rating'"
     ]
    }
   ],
   "source": [
    "all_df[\"Opp_Avg_Passer_Rating\"]"
   ]
  }
 ],
 "metadata": {
  "kernelspec": {
   "display_name": "Python 3 (ipykernel)",
   "language": "python",
   "name": "python3"
  },
  "language_info": {
   "codemirror_mode": {
    "name": "ipython",
    "version": 3
   },
   "file_extension": ".py",
   "mimetype": "text/x-python",
   "name": "python",
   "nbconvert_exporter": "python",
   "pygments_lexer": "ipython3",
   "version": "3.7.4"
  }
 },
 "nbformat": 4,
 "nbformat_minor": 5
}
