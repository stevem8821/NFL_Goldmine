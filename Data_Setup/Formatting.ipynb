{
 "cells": [
  {
   "cell_type": "markdown",
   "metadata": {},
   "source": [
    "# This notebook is for the purpose of formatting raw data and aggregating individual player data into single game observations."
   ]
  },
  {
   "cell_type": "markdown",
   "metadata": {},
   "source": [
    "Import packages"
   ]
  },
  {
   "cell_type": "code",
   "execution_count": 1,
   "metadata": {},
   "outputs": [],
   "source": [
    "import pandas as pd\n",
    "import numpy as np"
   ]
  },
  {
   "cell_type": "markdown",
   "metadata": {},
   "source": [
    "Read in data"
   ]
  },
  {
   "cell_type": "code",
   "execution_count": 2,
   "metadata": {
    "scrolled": true
   },
   "outputs": [],
   "source": [
    "df_2018 = pd.read_csv('Score_2018.csv')\n",
    "df_2019 = pd.read_csv('Score_2019.csv')\n",
    "df_2020 = pd.read_csv('Score_2020.csv')\n",
    "df_2021 = pd.read_csv('Score_2021.csv')\n",
    "df_exceptions = pd.read_csv('Score_Exceptions.csv')\n",
    "df_Score = pd.concat([df_2018,df_2019])\n",
    "df_Score = pd.concat([df_Score,df_2020])\n",
    "df_Score = pd.concat([df_Score,df_2021])\n",
    "df_Score = pd.concat([df_Score,df_exceptions])\n",
    "df_Score['Opponent'] = np.where(df_Score['Unnamed: 0'] == 1,df_Score['Tm'].shift(-1),df_Score['Tm'].shift(1))\n",
    "df_Score = df_Score.reset_index().drop(columns = ['index','Unnamed: 0'])"
   ]
  },
  {
   "cell_type": "code",
   "execution_count": 3,
   "metadata": {},
   "outputs": [],
   "source": [
    "df_2018 = pd.read_csv('Offense_2018.csv')\n",
    "df_2019 = pd.read_csv('Offense_2019.csv')\n",
    "df_2020 = pd.read_csv('Offense_2020.csv')\n",
    "df_2021 = pd.read_csv('Offense_2021.csv')\n",
    "df_exceptions = pd.read_csv('Offense_Exceptions.csv')\n",
    "df_Offense = pd.concat([df_2018,df_2019])\n",
    "df_Offense = pd.concat([df_Offense,df_2020])\n",
    "df_Offense = pd.concat([df_Offense,df_2021])\n",
    "df_Offense = pd.concat([df_Offense,df_exceptions])\n",
    "df_Offense = df_Offense.reset_index().drop(columns = ['index','Unnamed: 0'])"
   ]
  },
  {
   "cell_type": "code",
   "execution_count": 4,
   "metadata": {},
   "outputs": [],
   "source": [
    "df_2018 = pd.read_csv('Defense_2018.csv')\n",
    "df_2019 = pd.read_csv('Defense_2019.csv')\n",
    "df_2020 = pd.read_csv('Defense_2020.csv')\n",
    "df_2021 = pd.read_csv('Defense_2021.csv')\n",
    "df_exceptions = pd.read_csv('Defense_Exceptions.csv')\n",
    "df_Defense = pd.concat([df_2018,df_2019])\n",
    "df_Defense = pd.concat([df_Defense,df_2020])\n",
    "df_Defense = pd.concat([df_Defense,df_2021])\n",
    "df_Defense = pd.concat([df_Defense,df_exceptions])\n",
    "df_Defense = df_Defense.reset_index().drop(columns = ['index','Unnamed: 0'])"
   ]
  },
  {
   "cell_type": "code",
   "execution_count": 5,
   "metadata": {},
   "outputs": [],
   "source": [
    "df_2018 = pd.read_csv('KickReturns_2018.csv')\n",
    "df_2019 = pd.read_csv('KickReturns_2019.csv')\n",
    "df_2020 = pd.read_csv('KickReturns_2020.csv')\n",
    "df_2021 = pd.read_csv('KickReturns_2021.csv')\n",
    "df_exceptions = pd.read_csv('KickReturns_Exceptions.csv')\n",
    "df_KickReturns = pd.concat([df_2018,df_2019])\n",
    "df_KickReturns = pd.concat([df_KickReturns,df_2020])\n",
    "df_KickReturns = pd.concat([df_KickReturns,df_2021])\n",
    "df_KickReturns = pd.concat([df_KickReturns,df_exceptions])\n",
    "df_KickReturns = df_KickReturns.reset_index().drop(columns = ['index','Unnamed: 0'])"
   ]
  },
  {
   "cell_type": "code",
   "execution_count": 6,
   "metadata": {},
   "outputs": [],
   "source": [
    "df_2018 = pd.read_csv('Kicking_2018.csv')\n",
    "df_2019 = pd.read_csv('Kicking_2019.csv')\n",
    "df_2020 = pd.read_csv('Kicking_2020.csv')\n",
    "df_2021 = pd.read_csv('Kicking_2021.csv')\n",
    "df_exceptions = pd.read_csv('Kicking_Exceptions.csv')\n",
    "df_Kicking = pd.concat([df_2018,df_2019])\n",
    "df_Kicking = pd.concat([df_Kicking,df_2020])\n",
    "df_Kicking = pd.concat([df_Kicking,df_2021])\n",
    "df_Kicking = pd.concat([df_Kicking,df_exceptions])\n",
    "df_Kicking = df_Kicking.reset_index().drop(columns = ['index','Unnamed: 0'])"
   ]
  },
  {
   "cell_type": "code",
   "execution_count": 7,
   "metadata": {},
   "outputs": [],
   "source": [
    "df_2018 = pd.read_csv('AdvancedPassing_2018.csv')\n",
    "df_2019 = pd.read_csv('AdvancedPassing_2019.csv')\n",
    "df_2020 = pd.read_csv('AdvancedPassing_2020.csv')\n",
    "df_2021 = pd.read_csv('AdvancedPassing_2021.csv')\n",
    "df_exceptions = pd.read_csv('AdvancedPassing_Exceptions.csv')\n",
    "df_AdvancedPassing = pd.concat([df_2018,df_2019])\n",
    "df_AdvancedPassing = pd.concat([df_AdvancedPassing,df_2020])\n",
    "df_AdvancedPassing = pd.concat([df_AdvancedPassing,df_2021])\n",
    "df_AdvancedPassing = pd.concat([df_AdvancedPassing,df_exceptions])\n",
    "df_AdvancedPassing = df_AdvancedPassing.reset_index().drop(columns = ['index','Unnamed: 0'])"
   ]
  },
  {
   "cell_type": "code",
   "execution_count": 8,
   "metadata": {},
   "outputs": [],
   "source": [
    "df_2018 = pd.read_csv('AdvancedRushing_2018.csv')\n",
    "df_2019 = pd.read_csv('AdvancedRushing_2019.csv')\n",
    "df_2020 = pd.read_csv('AdvancedRushing_2020.csv')\n",
    "df_2021 = pd.read_csv('AdvancedRushing_2021.csv')\n",
    "df_exceptions = pd.read_csv('AdvancedRushing_Exceptions.csv')\n",
    "df_AdvancedRushing = pd.concat([df_2018,df_2019])\n",
    "df_AdvancedRushing = pd.concat([df_AdvancedRushing,df_2020])\n",
    "df_AdvancedRushing = pd.concat([df_AdvancedRushing,df_2021])\n",
    "df_AdvancedRushing = pd.concat([df_AdvancedRushing,df_exceptions])\n",
    "df_AdvancedRushing = df_AdvancedRushing.reset_index().drop(columns = ['index','Unnamed: 0'])"
   ]
  },
  {
   "cell_type": "code",
   "execution_count": 9,
   "metadata": {},
   "outputs": [],
   "source": [
    "df_2018 = pd.read_csv('AdvancedReceiving_2018.csv')\n",
    "df_2019 = pd.read_csv('AdvancedReceiving_2019.csv')\n",
    "df_2020 = pd.read_csv('AdvancedReceiving_2020.csv')\n",
    "df_2021 = pd.read_csv('AdvancedReceiving_2021.csv')\n",
    "df_exceptions = pd.read_csv('AdvancedReceiving_Exceptions.csv')\n",
    "df_AdvancedReceiving = pd.concat([df_2018,df_2019])\n",
    "df_AdvancedReceiving = pd.concat([df_AdvancedReceiving,df_2020])\n",
    "df_AdvancedReceiving = pd.concat([df_AdvancedReceiving,df_2021])\n",
    "df_AdvancedReceiving = pd.concat([df_AdvancedReceiving,df_exceptions])\n",
    "df_AdvancedReceiving = df_AdvancedReceiving.reset_index().drop(columns = ['index','Unnamed: 0'])"
   ]
  },
  {
   "cell_type": "code",
   "execution_count": 10,
   "metadata": {},
   "outputs": [],
   "source": [
    "df_2018 = pd.read_csv('AdvancedDefense_2018.csv')\n",
    "df_2019 = pd.read_csv('AdvancedDefense_2019.csv')\n",
    "df_2020 = pd.read_csv('AdvancedDefense_2020.csv')\n",
    "df_2021 = pd.read_csv('AdvancedDefense_2021.csv')\n",
    "df_exceptions = pd.read_csv('AdvancedDefense_Exceptions.csv')\n",
    "df_AdvancedDefense = pd.concat([df_2018,df_2019])\n",
    "df_AdvancedDefense = pd.concat([df_AdvancedDefense,df_2020])\n",
    "df_AdvancedDefense = pd.concat([df_AdvancedDefense,df_2021])\n",
    "df_AdvancedDefense = pd.concat([df_AdvancedDefense,df_exceptions])\n",
    "df_AdvancedDefense = df_AdvancedDefense.reset_index().drop(columns = ['index','Unnamed: 0'])"
   ]
  },
  {
   "cell_type": "code",
   "execution_count": 11,
   "metadata": {},
   "outputs": [],
   "source": [
    "df_2018 = pd.read_csv('HomeStarters_2018.csv')\n",
    "df_2019 = pd.read_csv('HomeStarters_2019.csv')\n",
    "df_2020 = pd.read_csv('HomeStarters_2020.csv')\n",
    "df_2021 = pd.read_csv('HomeStarters_2021.csv')\n",
    "df_exceptions = pd.read_csv('HomeStarters_Exceptions.csv')\n",
    "df_HomeStarters = pd.concat([df_2018,df_2019])\n",
    "df_HomeStarters = pd.concat([df_HomeStarters,df_2020])\n",
    "df_HomeStarters = pd.concat([df_HomeStarters,df_2021])\n",
    "df_HomeStarters = pd.concat([df_HomeStarters,df_exceptions])\n",
    "df_HomeStarters = df_HomeStarters.reset_index().drop(columns = ['index','Unnamed: 0'])"
   ]
  },
  {
   "cell_type": "code",
   "execution_count": 12,
   "metadata": {},
   "outputs": [],
   "source": [
    "df_2018 = pd.read_csv('AwayStarters_2018.csv')\n",
    "df_2019 = pd.read_csv('AwayStarters_2019.csv')\n",
    "df_2020 = pd.read_csv('AwayStarters_2020.csv')\n",
    "df_2021 = pd.read_csv('AwayStarters_2021.csv')\n",
    "df_exceptions = pd.read_csv('AwayStarters_Exceptions.csv')\n",
    "df_AwayStarters = pd.concat([df_2018,df_2019])\n",
    "df_AwayStarters = pd.concat([df_AwayStarters,df_2020])\n",
    "df_AwayStarters = pd.concat([df_AwayStarters,df_2021])\n",
    "df_AwayStarters = pd.concat([df_AwayStarters,df_exceptions])\n",
    "df_AwayStarters = df_AwayStarters.reset_index().drop(columns = ['index','Unnamed: 0'])"
   ]
  },
  {
   "cell_type": "markdown",
   "metadata": {},
   "source": [
    "Score Formatting"
   ]
  },
  {
   "cell_type": "code",
   "execution_count": 13,
   "metadata": {},
   "outputs": [],
   "source": [
    "df_Score.loc[df_Score['Tm'] == \"Washington Redskins\", \"Tm\"] = \"Washington Football Team\"\n",
    "df_Score.loc[df_Score['Tm'] == \"Oakland Raiders\", \"Tm\"] = \"Las Vegas Raiders\"\n",
    "df_Score.loc[df_Score['Opponent'] == \"Washington Redskins\", \"Opponent\"] = \"Washington Football Team\"\n",
    "df_Score.loc[df_Score['Opponent'] == \"Oakland Raiders\", \"Opponent\"] = \"Las Vegas Raiders\"\n",
    "df_Score.columns = ['Year','Week','Tm','Score','Home/Away','Opponent']\n",
    "\n",
    "df_Score = df_Score[['Year','Week','Tm','Opponent','Home/Away','Score']]\n",
    "\n",
    "df_Opp = df_Score[['Year','Week','Tm','Score']]\n",
    "df_Score = df_Score.merge(df_Opp,how = 'left',left_on = ['Year','Week','Opponent'],right_on = ['Year','Week','Tm'])\n",
    "df_Score = df_Score.drop(columns = 'Tm_y')\n",
    "\n",
    "df_Score.columns = ['Year','Week','Tm','Opponent','Home/Away','Score','Opp_Score']\n",
    "df_Score['Opp_Score'] = df_Score['Opp_Score'].astype('int64')\n",
    "\n",
    "def win_loss(Score,Opp_Score):\n",
    "    if Score > Opp_Score: \n",
    "        return \"W\"\n",
    "    elif Opp_Score > Score:\n",
    "        return \"L\"\n",
    "    else:\n",
    "        return \"T\"\n",
    "    \n",
    "df_Score['W/L'] = df_Score.apply(lambda row: win_loss(row['Score'],row['Opp_Score']),axis = 1)"
   ]
  },
  {
   "cell_type": "markdown",
   "metadata": {},
   "source": [
    "Offense Formatting"
   ]
  },
  {
   "cell_type": "code",
   "execution_count": 14,
   "metadata": {
    "scrolled": true
   },
   "outputs": [],
   "source": [
    "df_HomeStarters = df_HomeStarters.merge(df_Offense,on = [\"Year\",\"Week\",\"Players\"])[['Year','Week','Players','Pos','Tm','Rate']]\n",
    "df_AwayStarters = df_AwayStarters.merge(df_Offense,on = [\"Year\",\"Week\",\"Players\"])[['Year','Week','Players','Pos','Tm','Rate']]\n",
    "df_Starters = pd.concat([df_HomeStarters,df_AwayStarters])\n",
    "df_QBs = df_Starters[df_Starters['Pos'] == 'QB']\n",
    "df_QBs = df_QBs.drop_duplicates(['Year','Week','Tm'])\n",
    "df_QBs.loc[len(df_QBs.index)] = [2020,12,\"Kendall Hinton\",'QB','DEN',0]\n",
    "df_QBs.loc[df_QBs['Tm'] == \"OAK\",'Tm'] = \"LVR\"\n",
    "df_QBs_merge = df_QBs[['Year','Week','Tm','Rate','Players']]\n",
    "df_QBs_merge.columns = ['Year','Week','Tm','Passer_Rating','QB']\n",
    "\n",
    "df_Offense = df_Offense.fillna(0)\n",
    "df_Offense.loc[df_Offense['Tm'] == \"OAK\",'Tm'] = \"LVR\"\n",
    "df_Offense.columns = ['Year','Week','Players','Tm','Pass_Cmp','Pass_Att','Pass_Yds','Pass_TD','INT_Thrown','Sk_Taken',\n",
    "                     'Pass_Lng','Passer_Rating','Rush_Att','Rush_Yds','Rush_TD','Rush_Lng','Rec_Tgt','Receptions',\n",
    "                     'Rec_Yds','Rec_TD','Rec_Lng','Fumbles_Total','Fumbles_Lost']\n",
    "df_Offense = df_Offense.drop(columns = 'Passer_Rating')\n",
    "\n",
    "df_Offense['Pass_Lng'] = df_Offense['Pass_Lng'].astype('int64')\n",
    "df_Offense['Rush_Lng'] = df_Offense['Rush_Lng'].astype('int64')\n",
    "df_Offense['Rec_Lng'] = df_Offense['Rec_Lng'].astype('int64')\n",
    "\n",
    "df_Offense = df_Offense.groupby(by = ['Year','Week','Tm']).agg({\n",
    "    'Pass_Cmp':'sum',\n",
    "    'Pass_Att':'sum',\n",
    "    'Pass_Yds':'sum',\n",
    "    'Pass_TD':'sum',\n",
    "    'INT_Thrown':'sum',\n",
    "    'Sk_Taken':'sum',\n",
    "    'Pass_Lng':'max',\n",
    "    'Rush_Att':'sum',\n",
    "    'Rush_Yds':'sum',\n",
    "    'Rush_TD':'sum',\n",
    "    'Rush_Lng':'max',\n",
    "    'Rec_Tgt':'sum',\n",
    "    'Receptions':'sum',\n",
    "    'Rec_Yds':'sum',\n",
    "    'Rec_TD':'sum',\n",
    "    'Rec_Lng':'max',\n",
    "    'Fumbles_Total':'sum',\n",
    "    'Fumbles_Lost':'sum'\n",
    "}).reset_index()\n",
    "\n",
    "df_Offense = df_Offense.merge(df_QBs_merge,on = ['Year','Week','Tm'])"
   ]
  },
  {
   "cell_type": "markdown",
   "metadata": {},
   "source": [
    "Defense Formatting"
   ]
  },
  {
   "cell_type": "code",
   "execution_count": 15,
   "metadata": {},
   "outputs": [],
   "source": [
    "df_Defense = df_Defense.fillna(0)\n",
    "\n",
    "int_cols = ['Def_Ints','Def_Int_Yds','Def_Int_TD','Def_Int_Lng','Def_Pass_Defended','Def_Sack','Def_Combined_Tackles',\n",
    "            'Def_Solo_Tackle','Def_Assisted_Tackles','Def_TFL','Def_QB_Hits','Def_FF']\n",
    "for i in int_cols:\n",
    "    df_Defense[i] = df_Defense[i].astype('int64')\n",
    "    \n",
    "df_Defense.loc[df_Defense['Tm'] == 'OAK','Tm'] = 'LVR'\n",
    "\n",
    "df_Defense = df_Defense.groupby(by = ['Year','Week','Tm']).agg({\n",
    "    'Def_Ints':'sum',\n",
    "    'Def_Int_Yds':'sum',\n",
    "    'Def_Int_TD':'sum',\n",
    "    'Def_Int_Lng':'max',\n",
    "    'Def_Pass_Defended':'sum',\n",
    "    'Def_Sack':'sum',\n",
    "    'Def_Combined_Tackles':'sum',\n",
    "    'Def_Solo_Tackle':'sum',\n",
    "    'Def_Assisted_Tackles':'sum',\n",
    "    'Def_TFL':'sum',\n",
    "    'Def_QB_Hits':'sum',\n",
    "    'Def_FR':'sum',\n",
    "    'Def_FR_Yds':'sum',\n",
    "    'Def_FR_TD':'sum',\n",
    "    'Def_FF':'sum'\n",
    "}).reset_index()"
   ]
  },
  {
   "cell_type": "markdown",
   "metadata": {},
   "source": [
    "Kick Return Formatting"
   ]
  },
  {
   "cell_type": "code",
   "execution_count": 16,
   "metadata": {},
   "outputs": [],
   "source": [
    "df_KickReturns = df_KickReturns.drop(columns = ['Yards_Per_Kick_Return','Yards_Per_Punt_Return'])\n",
    "\n",
    "df_KickReturns = df_KickReturns.fillna(0)\n",
    "\n",
    "df_KickReturns.loc[df_KickReturns['Tm'] == 'OAK','Tm'] = 'LVR'\n",
    "\n",
    "df_KickReturns = df_KickReturns.groupby(by = ['Year','Week','Tm']).agg({\n",
    "    'Kick_Returns':'sum',\n",
    "    'Kick_Return_Yds':'sum',\n",
    "    'Kick_Return_TDs':'sum',\n",
    "    'Kick_Return_Long':'max',\n",
    "    'Punt_Returns':'sum',\n",
    "    'Punt_Return_Yds':'sum',\n",
    "    'Punt_Return_TDs':'sum',\n",
    "    'Punt_Return_Long':'max'\n",
    "}).reset_index()\n",
    "\n",
    "df_KickReturns['Yards_Per_Kick_Return'] = round(df_KickReturns['Kick_Return_Yds']/df_KickReturns['Kick_Returns'].astype('float64'),2)\n",
    "df_KickReturns['Yards_Per_Punt_Return'] = round(df_KickReturns['Punt_Return_Yds']/df_KickReturns['Punt_Returns'].astype('float64'),2)\n",
    "\n",
    "df_KickReturns = df_KickReturns.fillna(0)"
   ]
  },
  {
   "cell_type": "markdown",
   "metadata": {},
   "source": [
    "Kicking Formatting"
   ]
  },
  {
   "cell_type": "code",
   "execution_count": 17,
   "metadata": {},
   "outputs": [],
   "source": [
    "df_Kicking = df_Kicking.fillna(0)\n",
    "df_Kicking = df_Kicking.drop(columns = 'Yards_Per_Punt')\n",
    "df_Kicking.loc[df_Kicking['Tm'] == 'OAK','Tm'] = 'LVR'\n",
    "\n",
    "df_Kicking = df_Kicking.groupby(by = ['Year','Week','Tm']).agg({\n",
    "    'XPM':'sum',\n",
    "    'XPA':'sum',\n",
    "    'FGM':'sum',\n",
    "    'FGA':'sum',\n",
    "    'Punts':'sum',\n",
    "    'Punt_Yds':'sum',\n",
    "    'Punt_Lng':'max'\n",
    "}).reset_index()\n",
    "\n",
    "df_Kicking['Yards_Per_Punt'] = round(df_Kicking['Punt_Yds']/df_Kicking['Punts'].astype('float'),2)\n",
    "df_Kicking = df_Kicking.fillna(0)"
   ]
  },
  {
   "cell_type": "markdown",
   "metadata": {},
   "source": [
    "Advanced Passing Formatting"
   ]
  },
  {
   "cell_type": "code",
   "execution_count": 18,
   "metadata": {},
   "outputs": [],
   "source": [
    "df_AdvancedPassing = df_AdvancedPassing.drop(columns = ['1D%','IAY/PA','CAY/Cmp','CAY/PA','YAC/Cmp','Drop%','Bad%',\n",
    "                                                       'Prss%','Yds/Scr'])\n",
    "df_AdvancedPassing = df_AdvancedPassing.fillna(0)\n",
    "df_AdvancedPassing.loc[df_AdvancedPassing['Tm'] == \"OAK\",'Tm'] = \"LVR\"\n",
    "\n",
    "df_AdvancedPassing = df_AdvancedPassing.groupby(by = ['Year','Week','Tm']).agg({\n",
    "    'Cmp':'sum',\n",
    "    'Att':'sum',\n",
    "    'Yds':'sum',\n",
    "    '1D':'sum',\n",
    "    'IAY':'sum',\n",
    "    'CAY':'sum',\n",
    "    'YAC':'sum',\n",
    "    'Drops':'sum',\n",
    "    'BadTh':'sum',\n",
    "    'Bltz':'sum',\n",
    "    'Hrry':'sum',\n",
    "    'Hits':'sum',\n",
    "    'Prss':'sum',\n",
    "    'Scrm':'sum',\n",
    "    'Sk':'sum'\n",
    "}).reset_index()\n",
    "\n",
    "df_AdvancedPassing['1D%'] = round(df_AdvancedPassing['1D'] / (df_AdvancedPassing['Att'] + df_AdvancedPassing['Sk']) * 100,2)\n",
    "df_AdvancedPassing['IAY/PA'] = round(df_AdvancedPassing['IAY'] / df_AdvancedPassing['Att'],2)\n",
    "df_AdvancedPassing['CAY/Cmp'] = round(df_AdvancedPassing['CAY'] / df_AdvancedPassing['Cmp'],2)\n",
    "df_AdvancedPassing['CAY/PA'] = round(df_AdvancedPassing['CAY'] / df_AdvancedPassing['Att'],2)\n",
    "df_AdvancedPassing['YAC/Cmp'] = round(df_AdvancedPassing['YAC'] / df_AdvancedPassing['Cmp'],2)\n",
    "df_AdvancedPassing['Drop%'] = round(df_AdvancedPassing['Drops'] / df_AdvancedPassing['Att'] * 100,2)\n",
    "df_AdvancedPassing['Bad%'] = round(df_AdvancedPassing['BadTh'] / df_AdvancedPassing['Att'] * 100,2)\n",
    "df_AdvancedPassing['Prss%'] = round(df_AdvancedPassing['Prss'] / (df_AdvancedPassing['Att'] + df_AdvancedPassing['Sk']) * 100,2)\n",
    "\n",
    "df_AdvancedPassing = df_AdvancedPassing.drop(columns = ['Sk','Cmp','Att','Yds'])\n",
    "\n",
    "df_AdvancedPassing.columns = ['Year','Week','Tm','Pass_1D','Pass_IAY','Pass_CAY','Pass_YAC','Pass_Drops','Pass_BadTh',\n",
    "                             'Pass_Bltz','Pass_Hrry','Pass_Hits','Pass_Prss','Pass_Scrm','Pass_1D%','Pass_IAY/PA',\n",
    "                             'Pass_CAY/Cmp','Pass_CAY/PA','Pass_YAC/Cmp','Pass_Drop%','Pass_Bad%','Pass_Prss%']"
   ]
  },
  {
   "cell_type": "code",
   "execution_count": 19,
   "metadata": {},
   "outputs": [
    {
     "data": {
      "text/plain": [
       "array(['Year', 'Week', 'Tm', 'Pass_1D', 'Pass_IAY', 'Pass_CAY',\n",
       "       'Pass_YAC', 'Pass_Drops', 'Pass_BadTh', 'Pass_Bltz', 'Pass_Hrry',\n",
       "       'Pass_Hits', 'Pass_Prss', 'Pass_Scrm', 'Pass_1D%', 'Pass_IAY/PA',\n",
       "       'Pass_CAY/Cmp', 'Pass_CAY/PA', 'Pass_YAC/Cmp', 'Pass_Drop%',\n",
       "       'Pass_Bad%', 'Pass_Prss%'], dtype=object)"
      ]
     },
     "execution_count": 19,
     "metadata": {},
     "output_type": "execute_result"
    }
   ],
   "source": [
    "df_AdvancedPassing.columns.values"
   ]
  },
  {
   "cell_type": "code",
   "execution_count": 20,
   "metadata": {},
   "outputs": [],
   "source": [
    "df_AdvancedRushing = df_AdvancedRushing.drop(columns = ['YBC/Att','YAC/Att','Att/Br'])\n",
    "df_AdvancedRushing = df_AdvancedRushing.fillna(0)\n",
    "df_AdvancedRushing.loc[df_AdvancedRushing['Tm'] == 'OAK','Tm'] = 'LVR'\n",
    "df_AdvancedRushing = df_AdvancedRushing.groupby(by = ['Year','Week','Tm']).agg({\n",
    "    'Att':'sum',\n",
    "    'Yds':'sum',\n",
    "    '1D':'sum',\n",
    "    'YBC':'sum',\n",
    "    'YAC':'sum',\n",
    "    'BrkTkl':'sum'\n",
    "}).reset_index()\n",
    "\n",
    "df_AdvancedRushing['YBC/Att'] = round(df_AdvancedRushing['YBC'] / df_AdvancedRushing['Att'],2)\n",
    "df_AdvancedRushing['YAC/Att'] = round(df_AdvancedRushing['YAC'] / df_AdvancedRushing['Att'],2)\n",
    "df_AdvancedRushing['BrkTkl/Att%'] = round(df_AdvancedRushing['BrkTkl'] / df_AdvancedRushing['Att'],2) * 100\n",
    "\n",
    "df_AdvancedRushing.columns = ['Year','Week','Tm','Rush_Att','Rush_Yds','Rush_1D','Rush_YBC','Rush_YAC','Rush_BrkTkl',\n",
    "                             'Rush_YBC/Att','Rush_YAC/Att','Rush_BrkTkl/Att%']\n",
    "\n",
    "df_AdvancedRushing = df_AdvancedRushing.drop(columns = ['Rush_Att','Rush_Yds'])"
   ]
  },
  {
   "cell_type": "code",
   "execution_count": 21,
   "metadata": {},
   "outputs": [],
   "source": [
    "df_AdvancedReceiving['Total_DOT'] = df_AdvancedReceiving['ADOT'] * df_AdvancedReceiving['Tgt']\n",
    "df_AdvancedReceiving = df_AdvancedReceiving.drop(columns = ['YBC/R','YAC/R','Rec/Br','Rat','ADOT','Int','Rat'])\n",
    "df_AdvancedReceiving = df_AdvancedReceiving.fillna(0)\n",
    "df_AdvancedReceiving.loc[df_AdvancedReceiving['Tm'] == 'OAK','Tm'] = 'LVR'\n",
    "df_AdvancedReceiving = df_AdvancedReceiving.groupby(by = ['Year','Week','Tm']).agg({\n",
    "    'Tgt':'sum',\n",
    "    'Rec':'sum',\n",
    "    'Yds':'sum',\n",
    "    'TD':'sum',\n",
    "    '1D':'sum',\n",
    "    'YBC':'sum',\n",
    "    'YAC':'sum',\n",
    "    'BrkTkl':'sum',\n",
    "    'Drop':'sum',\n",
    "    'Total_DOT':'sum'\n",
    "}).reset_index()\n",
    "\n",
    "df_AdvancedReceiving['ADOT'] = round(df_AdvancedReceiving['Total_DOT'] / df_AdvancedReceiving['Tgt'],2)\n",
    "df_AdvancedReceiving['YBC/R'] = round(df_AdvancedReceiving['YBC'] / df_AdvancedReceiving['Rec'],2)\n",
    "df_AdvancedReceiving['YAC/R'] = round(df_AdvancedReceiving['YAC'] / df_AdvancedReceiving['Rec'],2)\n",
    "df_AdvancedReceiving['BrkTkl/Rec%'] = round(df_AdvancedReceiving['BrkTkl'] / df_AdvancedReceiving['Rec'],2) * 100\n",
    "\n",
    "df_AdvancedReceiving = df_AdvancedReceiving.drop(columns = 'Total_DOT')\n",
    "\n",
    "df_AdvancedReceiving.columns = ['Year','Week','Tm','Rec_Tgt','Rec_Receptions','Rec_Yds','Rec_TD','Rec_1D','Rec_YBC',\n",
    "                                'Rec_YAC','Rec_BrkTkl','Rec_Drop','Rec_ADOT','Rec_YBC/R','Rec_YAC/R','Rec_BrkTkl/Rec%'\n",
    "]\n",
    "\n",
    "df_AdvancedReceiving = df_AdvancedReceiving.drop(columns = ['Rec_Tgt','Rec_Yds','Rec_TD','Rec_Receptions'])"
   ]
  },
  {
   "cell_type": "code",
   "execution_count": 22,
   "metadata": {},
   "outputs": [],
   "source": [
    "df_AdvancedDefense['Total_DOT'] = df_AdvancedDefense['DADOT'] * df_AdvancedDefense['Tgt']\n",
    "df_AdvancedDefense = df_AdvancedDefense.drop(columns = ['Cmp%','Yds/Cmp','Yds/Tgt','Rat','DADOT','Sk','MTkl%','Int'])\n",
    "df_AdvancedDefense = df_AdvancedDefense.fillna(0)\n",
    "df_AdvancedDefense.loc[df_AdvancedDefense['Tm'] == 'OAK','Tm'] = 'LVR'\n",
    "df_AdvancedDefense = df_AdvancedDefense.groupby(by = ['Year','Week','Tm']).agg({ \n",
    "    'Tgt':'sum',\n",
    "    'Cmp':'sum',\n",
    "    'Yds':'sum',\n",
    "    'TD':'sum',\n",
    "    'Air':'sum',\n",
    "    'YAC':'sum',\n",
    "    'Blitz':'sum',\n",
    "    'Hrry':'sum',\n",
    "    'QBKD':'sum',\n",
    "    'Prss':'sum',\n",
    "    'Comb':'sum',\n",
    "    'MTkl':'sum',\n",
    "    'Total_DOT':'sum'\n",
    "}).reset_index()\n",
    "\n",
    "df_AdvancedDefense['Def_ADOT'] = round(df_AdvancedDefense['Total_DOT'] / df_AdvancedDefense['Tgt'],2)\n",
    "df_AdvancedDefense['Def_Cmp%'] = round(df_AdvancedDefense['Cmp'] / df_AdvancedDefense['Tgt'],2) * 100\n",
    "df_AdvancedDefense['Def_Yds/Cmp'] = round(df_AdvancedDefense['Yds'] / df_AdvancedDefense['Cmp'],2)\n",
    "df_AdvancedDefense['Def_Yds/Tgt'] = round(df_AdvancedDefense['Yds'] / df_AdvancedDefense['Tgt'],2)\n",
    "df_AdvancedDefense['Def_Missed_Tkl%'] = round(df_AdvancedDefense['MTkl'] / (df_AdvancedDefense['Comb'] + df_AdvancedDefense['MTkl']),2) * 100\n",
    "\n",
    "df_AdvancedDefense = df_AdvancedDefense[df_AdvancedDefense['Tm'] != '0']\n",
    "df_AdvancedDefense = df_AdvancedDefense.drop(columns = 'Total_DOT')\n",
    "\n",
    "df_AdvancedDefense.columns = ['Year','Week','Tm','Def_Tgt','Def_Cmp','Def_Pass_Yds','Def_Pass_TD',\n",
    "                             'Def_Air','Def_YAC','Def_Blitz','Def_Hrry','Def_QBKD','Def_Prss','Def_Comb','Def_MTkl',\n",
    "                             'Def_ADOT','Def_Cmp%','Def_Yds/Cmp','Def_Yds/Tgt','Def_Missed_Tkl%']"
   ]
  },
  {
   "cell_type": "code",
   "execution_count": 23,
   "metadata": {},
   "outputs": [],
   "source": [
    "Full_Names = df_Score['Tm'].sort_values().unique().tolist()\n",
    "Abbrevs = ['ARI','ATL','BAL','BUF','CAR','CHI','CIN','CLE','DAL','DEN','DET','GNB','HOU','IND','JAX',\n",
    "          'KAN','LVR','LAC','LAR','MIA','MIN','NWE','NOR','NYG','NYJ','PHI','PIT','SFO','SEA','TAM','TEN','WAS']\n",
    "df_teamdict = pd.DataFrame()\n",
    "df_teamdict['Team_Name'] = Full_Names\n",
    "df_teamdict['Abbrev'] = Abbrevs\n",
    "df_Score = df_Score.merge(df_teamdict,left_on = 'Tm',right_on = 'Team_Name')\n",
    "df_Score = df_Score.drop(columns = 'Team_Name')\n",
    "df_Score = df_Score.merge(df_teamdict,left_on = 'Opponent',right_on = 'Team_Name')\n",
    "df_Score = df_Score.drop(columns = ['Team_Name','Tm','Opponent'])\n",
    "df_Score.columns = ['Year','Week','Home/Away','Score','Opp_Score',\n",
    "                   'W/L','Tm','Opp']\n",
    "df_Score = df_Score[['Year','Week','Tm','Opp','Home/Away','Score','Opp_Score','W/L']]"
   ]
  },
  {
   "cell_type": "code",
   "execution_count": 24,
   "metadata": {},
   "outputs": [],
   "source": [
    "df_full = df_Score.merge(df_Offense,on = ['Year','Week','Tm'])\n",
    "df_full = df_full.merge(df_Defense,on = ['Year','Week','Tm'])\n",
    "df_full = df_full.merge(df_Kicking,on = ['Year','Week','Tm'])\n",
    "df_full = df_full.merge(df_KickReturns,on = ['Year','Week','Tm'],how = 'left')\n",
    "df_full = df_full.merge(df_AdvancedPassing,on = ['Year','Week','Tm'])\n",
    "df_full = df_full.merge(df_AdvancedRushing,on = ['Year','Week','Tm'])\n",
    "df_full = df_full.merge(df_AdvancedReceiving,on = ['Year','Week','Tm'])\n",
    "df_full = df_full.merge(df_AdvancedDefense,on = ['Year','Week','Tm'])\n",
    "df_full = df_full.fillna(0)"
   ]
  },
  {
   "cell_type": "code",
   "execution_count": 25,
   "metadata": {},
   "outputs": [],
   "source": [
    "df_full['is_home'] = np.where(df_full['Home/Away'] == \"Home\",1,0)\n",
    "df_full['W/L'] = np.where(df_full['W/L'] == 'W',1,0)"
   ]
  },
  {
   "cell_type": "code",
   "execution_count": 26,
   "metadata": {},
   "outputs": [],
   "source": [
    "df_full.to_csv('NFL_2018_2021.csv',index = False)"
   ]
  }
 ],
 "metadata": {
  "kernelspec": {
   "display_name": "Python 3",
   "language": "python",
   "name": "python3"
  },
  "language_info": {
   "codemirror_mode": {
    "name": "ipython",
    "version": 3
   },
   "file_extension": ".py",
   "mimetype": "text/x-python",
   "name": "python",
   "nbconvert_exporter": "python",
   "pygments_lexer": "ipython3",
   "version": "3.7.4"
  }
 },
 "nbformat": 4,
 "nbformat_minor": 2
}
