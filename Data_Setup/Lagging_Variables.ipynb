{
 "cells": [
  {
   "cell_type": "markdown",
   "metadata": {},
   "source": [
    "# Creating Lags\n",
    "\n",
    "1 week lag\n",
    "\n",
    "2 week moving average\n",
    "\n",
    "3 week moving average\n",
    "\n",
    "4 week moving averge\n",
    "\n",
    "etc.\n",
    "\n",
    "season moving average"
   ]
  },
  {
   "cell_type": "markdown",
   "metadata": {},
   "source": [
    "Import Packages"
   ]
  },
  {
   "cell_type": "code",
   "execution_count": 1,
   "metadata": {},
   "outputs": [],
   "source": [
    "import pandas as pd\n",
    "import numpy as np"
   ]
  },
  {
   "cell_type": "code",
   "execution_count": 2,
   "metadata": {},
   "outputs": [],
   "source": [
    "#Read in Data\n",
    "df_data = pd.read_csv('NFL_2018_2021.csv')\n",
    "df_data = df_data.drop(columns = 'Opp_Score')"
   ]
  },
  {
   "cell_type": "markdown",
   "metadata": {},
   "source": [
    "2 week average"
   ]
  },
  {
   "cell_type": "code",
   "execution_count": 3,
   "metadata": {
    "scrolled": true
   },
   "outputs": [],
   "source": [
    "def get_two_week_average(df_data):\n",
    "\n",
    "    df = pd.DataFrame()\n",
    "\n",
    "    for team in df_data['Tm'].sort_values().unique():\n",
    "        for year in df_data['Year'].sort_values().unique():\n",
    "            df_ex = df_data[(df_data['Tm'] == team) & (df_data['Year'] == year)].sort_values('Week').reset_index().drop(columns = 'index')\n",
    "            for row in range(0,len(df_ex.index)-2):\n",
    "                avg_rows = df_ex[(df_ex.index == row) | (df_ex.index == row + 1)] \n",
    "                keep_columns = ['Year','Week','Tm','Opp','Home/Away','Score','QB','is_home']\n",
    "                df_keep = df_ex[df_ex.index == row + 2][keep_columns].reset_index().drop(columns = 'index')\n",
    "                df_avg = avg_rows.drop(columns = ['Year','Week','Tm','Opp','Home/Away','QB','is_home'])\n",
    "                df_averages = pd.DataFrame(df_avg.mean()).transpose().reset_index().drop(columns = 'index')\n",
    "                df_averages = round(df_averages,2)\n",
    "                df_averages = df_averages.add_prefix('Avg_')\n",
    "                df_final = pd.concat([df_keep,df_averages],axis = 1)\n",
    "                df = df.append(df_final)\n",
    "                \n",
    "    df_opponent = df.copy()\n",
    "    df_opponent = df_opponent.drop(columns = ['Opp','Home/Away','Score','is_home'])\n",
    "    df_opponent = df_opponent.add_prefix('Opp_')\n",
    "    df_opponent = df_opponent.rename(columns={\"Opp_Year\":\"Year\",\"Opp_Week\":\"Week\",\"Opp_Tm\": \"Tm\"})\n",
    "    df = df.merge(df_opponent,left_on = ['Year','Week','Opp'],right_on = ['Year','Week','Tm'])\n",
    "    df = df.drop(columns = 'Tm_y')\n",
    "    df = df.rename(columns = {'Tm_x':'Tm'})\n",
    "    \n",
    "    return df"
   ]
  },
  {
   "cell_type": "code",
   "execution_count": 4,
   "metadata": {},
   "outputs": [],
   "source": [
    "df_two_week_average = get_two_week_average(df_data)"
   ]
  },
  {
   "cell_type": "code",
   "execution_count": 5,
   "metadata": {},
   "outputs": [],
   "source": [
    "df_two_week_average.to_csv('2_week_avg.csv',index = False)"
   ]
  },
  {
   "cell_type": "markdown",
   "metadata": {},
   "source": [
    "3 week average"
   ]
  },
  {
   "cell_type": "code",
   "execution_count": 6,
   "metadata": {
    "scrolled": true
   },
   "outputs": [],
   "source": [
    "def get_three_week_average(df_data):\n",
    "\n",
    "    df = pd.DataFrame()\n",
    "\n",
    "    for team in df_data['Tm'].sort_values().unique():\n",
    "        for year in df_data['Year'].sort_values().unique():\n",
    "            df_ex = df_data[(df_data['Tm'] == team) & (df_data['Year'] == year)].sort_values('Week').reset_index().drop(columns = 'index')\n",
    "            for row in range(0,len(df_ex.index)-3):\n",
    "                avg_rows = df_ex[(df_ex.index == row) | (df_ex.index == row + 1) | (df_ex.index == row + 2)] \n",
    "                keep_columns = ['Year','Week','Tm','Opp','Home/Away','Score','QB','is_home']\n",
    "                df_keep = df_ex[df_ex.index == row + 3][keep_columns].reset_index().drop(columns = 'index')\n",
    "                df_avg = avg_rows.drop(columns = ['Year','Week','Tm','Opp','Home/Away','QB','is_home'])\n",
    "                df_averages = pd.DataFrame(df_avg.mean()).transpose().reset_index().drop(columns = 'index')\n",
    "                df_averages = round(df_averages,2)\n",
    "                df_averages = df_averages.add_prefix('Avg_')\n",
    "                df_final = pd.concat([df_keep,df_averages],axis = 1)\n",
    "                df = df.append(df_final)\n",
    "\n",
    "    df_opponent = df.copy()\n",
    "    df_opponent = df_opponent.drop(columns = ['Opp','Home/Away','Score','is_home'])\n",
    "    df_opponent = df_opponent.add_prefix('Opp_')\n",
    "    df_opponent = df_opponent.rename(columns={\"Opp_Year\":\"Year\",\"Opp_Week\":\"Week\",\"Opp_Tm\": \"Tm\"})\n",
    "    df = df.merge(df_opponent,left_on = ['Year','Week','Opp'],right_on = ['Year','Week','Tm'])\n",
    "    df = df.drop(columns = 'Tm_y')\n",
    "    df = df.rename(columns = {'Tm_x':'Tm'})\n",
    "    \n",
    "    return df"
   ]
  },
  {
   "cell_type": "code",
   "execution_count": 7,
   "metadata": {},
   "outputs": [],
   "source": [
    "df_three_week_average = get_three_week_average(df_data)"
   ]
  },
  {
   "cell_type": "code",
   "execution_count": 8,
   "metadata": {},
   "outputs": [],
   "source": [
    "df_three_week_average.to_csv('3_week_avg.csv',index = False)"
   ]
  },
  {
   "cell_type": "markdown",
   "metadata": {},
   "source": [
    "4 week average"
   ]
  },
  {
   "cell_type": "code",
   "execution_count": 9,
   "metadata": {
    "scrolled": true
   },
   "outputs": [],
   "source": [
    "def get_four_week_average(df_data):\n",
    "\n",
    "    df = pd.DataFrame()\n",
    "\n",
    "    for team in df_data['Tm'].sort_values().unique():\n",
    "        for year in df_data['Year'].sort_values().unique():\n",
    "            df_ex = df_data[(df_data['Tm'] == team) & (df_data['Year'] == year)].sort_values('Week').reset_index().drop(columns = 'index')\n",
    "            for row in range(0,len(df_ex.index)-4):\n",
    "                avg_rows = df_ex[(df_ex.index == row) | (df_ex.index == row + 1) | \n",
    "                                 (df_ex.index == row + 2) | (df_ex.index == row + 3)] \n",
    "                keep_columns = ['Year','Week','Tm','Opp','Home/Away','Score','QB','is_home']\n",
    "                df_keep = df_ex[df_ex.index == row + 4][keep_columns].reset_index().drop(columns = 'index')\n",
    "                df_avg = avg_rows.drop(columns = ['Year','Week','Tm','Opp','Home/Away','QB','is_home'])\n",
    "                df_averages = pd.DataFrame(df_avg.mean()).transpose().reset_index().drop(columns = 'index')\n",
    "                df_averages = round(df_averages,2)\n",
    "                df_averages = df_averages.add_prefix('Avg_')\n",
    "                df_final = pd.concat([df_keep,df_averages],axis = 1)\n",
    "                df = df.append(df_final)\n",
    "                \n",
    "    df_opponent = df.copy()\n",
    "    df_opponent = df_opponent.drop(columns = ['Opp','Home/Away','Score','is_home'])\n",
    "    df_opponent = df_opponent.add_prefix('Opp_')\n",
    "    df_opponent = df_opponent.rename(columns={\"Opp_Year\":\"Year\",\"Opp_Week\":\"Week\",\"Opp_Tm\": \"Tm\"})\n",
    "    df = df.merge(df_opponent,left_on = ['Year','Week','Opp'],right_on = ['Year','Week','Tm'])\n",
    "    df = df.drop(columns = 'Tm_y')\n",
    "    df = df.rename(columns = {'Tm_x':'Tm'})\n",
    "    \n",
    "    return df"
   ]
  },
  {
   "cell_type": "code",
   "execution_count": 10,
   "metadata": {},
   "outputs": [],
   "source": [
    "df_four_week_average = get_four_week_average(df_data)"
   ]
  },
  {
   "cell_type": "code",
   "execution_count": 11,
   "metadata": {},
   "outputs": [],
   "source": [
    "df_four_week_average.to_csv('4_week_avg.csv',index = False)"
   ]
  }
 ],
 "metadata": {
  "kernelspec": {
   "display_name": "Python 3",
   "language": "python",
   "name": "python3"
  },
  "language_info": {
   "codemirror_mode": {
    "name": "ipython",
    "version": 3
   },
   "file_extension": ".py",
   "mimetype": "text/x-python",
   "name": "python",
   "nbconvert_exporter": "python",
   "pygments_lexer": "ipython3",
   "version": "3.7.4"
  }
 },
 "nbformat": 4,
 "nbformat_minor": 2
}
